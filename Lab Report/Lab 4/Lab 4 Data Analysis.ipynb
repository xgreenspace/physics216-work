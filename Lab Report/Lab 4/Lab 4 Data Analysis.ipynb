{
 "cells": [
  {
   "cell_type": "code",
   "execution_count": 68,
   "metadata": {},
   "outputs": [],
   "source": [
    "import numpy as np\n",
    "import matplotlib.pyplot as plt\n",
    "import pandas as pd\n",
    "import csv\n",
    "\n",
    "%matplotlib inline"
   ]
  },
  {
   "cell_type": "markdown",
   "metadata": {},
   "source": [
    "# Large Rubber Kinetic"
   ]
  },
  {
   "cell_type": "code",
   "execution_count": 69,
   "metadata": {},
   "outputs": [
    {
     "name": "stdout",
     "output_type": "stream",
     "text": [
      "Accelerations: [311.07806847 272.62962808 444.06225717 235.38502774 229.51544928\n",
      " 121.46900466 193.92326114 217.70447951 240.40172466 255.52178435\n",
      " 196.87319877]\n",
      "Acceleration Averages: 247.14217125655287\n"
     ]
    }
   ],
   "source": [
    "# Large Rubber Kinetic Trial 1\n",
    "\n",
    "theta = np.radians(37.23572)\n",
    "\n",
    "rubber_kinetic = pd.read_csv('large_rubber_kinetic\\\\large_rubber_kinetic_trial1.csv')\n",
    "\n",
    "rubber_kinetic['mag a'] = rubber_kinetic['ax-hotpink'] / np.cos(theta)\n",
    "\n",
    "lrk_trial1_a = rubber_kinetic['mag a'].to_numpy() \n",
    "\n",
    "lrk_trial1_a = lrk_trial1_a[~np.isnan(lrk_trial1_a)]\n",
    "\n",
    "print('Accelerations: ' + str(lrk_trial1_a))\n",
    "print('Acceleration Averages: ' + str(lrk_trial1_a.mean()))\n"
   ]
  },
  {
   "cell_type": "code",
   "execution_count": 70,
   "metadata": {},
   "outputs": [
    {
     "name": "stdout",
     "output_type": "stream",
     "text": [
      "Accelerations: [299.04409668 280.12575989 259.99859346 279.63601381 217.97868376\n",
      " 199.43805966 175.48597699 207.41602717 201.62616789 215.24571874\n",
      " 227.98951963 192.13459735 196.22623617]\n",
      "Acceleration Averages: 227.10349624604473\n"
     ]
    }
   ],
   "source": [
    "# Large Rubber Kinetic Trial 2\n",
    "\n",
    "theta = np.radians(37.23572)\n",
    "\n",
    "rubber_kinetic = pd.read_csv('large_rubber_kinetic\\\\large_rubber_kinetic_trial2.csv')\n",
    "\n",
    "rubber_kinetic['mag a'] = rubber_kinetic['ax-hotpink'] / np.cos(theta)\n",
    "\n",
    "lrk_trial2_a = rubber_kinetic['mag a'].to_numpy() \n",
    "\n",
    "lrk_trial2_a = lrk_trial2_a[~np.isnan(lrk_trial2_a)]\n",
    "\n",
    "print('Accelerations: ' + str(lrk_trial2_a))\n",
    "print('Acceleration Averages: ' + str(lrk_trial2_a.mean()))"
   ]
  },
  {
   "cell_type": "code",
   "execution_count": 71,
   "metadata": {},
   "outputs": [
    {
     "name": "stdout",
     "output_type": "stream",
     "text": [
      "Accelerations: [   0.           26.63087818  101.15613514  143.27535793  174.39739349\n",
      "  182.80059622  182.38836181  188.5341451   166.699204    171.36033441\n",
      "  159.37562537  165.36680066  134.26491991   87.51715638  105.85682725\n",
      "  178.64356036  263.05255832  222.50577145  106.87424318   74.25019476\n",
      "   63.12138052  158.31340784   94.98495002 -152.54384491]\n",
      "Acceleration Averages: 124.95108155858789\n"
     ]
    }
   ],
   "source": [
    "# Large Rubber Kinetic Trial 3\n",
    "\n",
    "theta = np.radians(37.23572)\n",
    "\n",
    "rubber_kinetic = pd.read_csv('large_rubber_kinetic\\\\large_rubber_kinetic_trial3.csv')\n",
    "\n",
    "rubber_kinetic['mag a'] = rubber_kinetic['ax-hotpink'] / np.cos(theta)\n",
    "\n",
    "lrk_trial3_a = rubber_kinetic['mag a'].to_numpy() \n",
    "\n",
    "lrk_trial3_a = lrk_trial3_a[~np.isnan(lrk_trial3_a)]\n",
    "\n",
    "print('Accelerations: ' + str(lrk_trial3_a))\n",
    "print('Acceleration Averages: ' + str(lrk_trial3_a.mean()))"
   ]
  },
  {
   "cell_type": "code",
   "execution_count": 72,
   "metadata": {},
   "outputs": [
    {
     "name": "stdout",
     "output_type": "stream",
     "text": [
      "Accelerations: [   5.07024081   33.10231052   82.46982611  163.44672058  226.0486108\n",
      "  247.27424828  203.31130414  242.12093863  222.14077683  287.8755748\n",
      "  215.00326713  222.83399461  194.64323832  215.76484188  236.68951893\n",
      "  211.92035731  226.5804112   156.5937624   185.416712    160.96647118\n",
      "  240.82062624  187.97455141  160.74374548 -335.36716516 -648.81934882]\n",
      "Acceleration Averages: 133.78502142418643\n"
     ]
    }
   ],
   "source": [
    "# Large Rubber Kinetic Trial 4\n",
    "\n",
    "theta = np.radians(37.23572)\n",
    "\n",
    "rubber_kinetic = pd.read_csv('large_rubber_kinetic\\\\large_rubber_kinetic_trial4.csv')\n",
    "\n",
    "rubber_kinetic['mag a'] = rubber_kinetic['ax-hotpink'] / np.cos(theta)    \n",
    "\n",
    "lrk_trial4_a = rubber_kinetic['mag a'].to_numpy() \n",
    "\n",
    "lrk_trial4_a = lrk_trial4_a[~np.isnan(lrk_trial4_a)]\n",
    "\n",
    "print('Accelerations: ' + str(lrk_trial4_a))\n",
    "print('Acceleration Averages: ' + str(lrk_trial4_a.mean()))"
   ]
  },
  {
   "cell_type": "code",
   "execution_count": 73,
   "metadata": {},
   "outputs": [
    {
     "name": "stdout",
     "output_type": "stream",
     "text": [
      "Accelerations: [  0.          35.57885326  98.88008736 186.22991742 222.36783286\n",
      " 266.84139943 257.75069    294.92561977 226.71778658 287.47886743\n",
      " 256.16100152 331.74637281 229.29762428 238.51313763 199.05713969\n",
      " 180.3237591  150.6149625  189.36418409 182.01140341 276.80070665\n",
      " 192.28739945 -72.74489225]\n",
      "Acceleration Averages: 192.28199331779672\n"
     ]
    }
   ],
   "source": [
    "# Large Rubber Kinetic Trial 5\n",
    "\n",
    "theta = np.radians(37.23572)\n",
    "\n",
    "rubber_kinetic = pd.read_csv('large_rubber_kinetic\\\\large_rubber_kinetic_trial5.csv')\n",
    "\n",
    "rubber_kinetic['mag a'] = rubber_kinetic['ax-hotpink'] / np.cos(theta)  \n",
    "\n",
    "lrk_trial5_a = rubber_kinetic['mag a'].to_numpy() \n",
    "\n",
    "lrk_trial5_a = lrk_trial5_a[~np.isnan(lrk_trial5_a)]\n",
    "\n",
    "print('Accelerations: ' + str(lrk_trial5_a))\n",
    "print('Acceleration Averages: ' + str(lrk_trial5_a.mean()))"
   ]
  },
  {
   "cell_type": "code",
   "execution_count": 74,
   "metadata": {},
   "outputs": [
    {
     "name": "stdout",
     "output_type": "stream",
     "text": [
      "Accelerations: [   0.           26.63087818  101.15613514  143.27535793  174.39739349\n",
      "  182.80059622  182.38836181  188.5341451   166.699204    171.36033441\n",
      "  159.37562537  165.36680066  134.26491991   87.51715638  105.85682725\n",
      "  178.64356036  263.05255832  222.50577145  106.87424318   74.25019476\n",
      "   63.12138052  158.31340784   94.98495002 -152.54384491]\n",
      "Acceleration Averages: 124.95108155858789\n"
     ]
    }
   ],
   "source": [
    "# Large Rubber Kinetic Trial 6\n",
    "\n",
    "theta = np.radians(37.23572)\n",
    "\n",
    "rubber_kinetic = pd.read_csv('large_rubber_kinetic\\\\large_rubber_kinetic_trial6.csv')\n",
    "\n",
    "rubber_kinetic['mag a'] = rubber_kinetic['ax-hotpink'] / np.cos(theta)  \n",
    "\n",
    "lrk_trial6_a = rubber_kinetic['mag a'].to_numpy() \n",
    "\n",
    "lrk_trial6_a = lrk_trial6_a[~np.isnan(lrk_trial6_a)]\n",
    "\n",
    "print('Accelerations: ' + str(lrk_trial6_a))\n",
    "print('Acceleration Averages: ' + str(lrk_trial6_a.mean()))"
   ]
  },
  {
   "cell_type": "code",
   "execution_count": 75,
   "metadata": {},
   "outputs": [
    {
     "name": "stdout",
     "output_type": "stream",
     "text": [
      "Accelerations: [   0.           26.63087818  101.15613514  143.27535793  174.39739349\n",
      "  182.80059622  182.38836181  188.5341451   166.699204    171.36033441\n",
      "  159.37562537  165.36680066  134.26491991   87.51715638  105.85682725\n",
      "  178.64356036  263.05255832  222.50577145  106.87424318   74.25019476\n",
      "   63.12138052  158.31340784   94.98495002 -152.54384491]\n",
      "Acceleration Averages: 124.95108155858789\n"
     ]
    }
   ],
   "source": [
    "# Large Rubber Kinetic Trial 7\n",
    "\n",
    "theta = np.radians(37.23572)\n",
    "\n",
    "rubber_kinetic = pd.read_csv('large_rubber_kinetic\\\\large_rubber_kinetic_trial7.csv')\n",
    "\n",
    "rubber_kinetic['mag a'] = rubber_kinetic['ax-hotpink'] / np.cos(theta)    \n",
    "\n",
    "lrk_trial7_a = rubber_kinetic['mag a'].to_numpy() \n",
    "\n",
    "lrk_trial7_a = lrk_trial7_a[~np.isnan(lrk_trial7_a)]\n",
    "\n",
    "print('Accelerations: ' + str(lrk_trial7_a))\n",
    "print('Acceleration Averages: ' + str(lrk_trial7_a.mean()))"
   ]
  },
  {
   "cell_type": "code",
   "execution_count": 76,
   "metadata": {},
   "outputs": [
    {
     "name": "stdout",
     "output_type": "stream",
     "text": [
      "Accelerations: [  26.63087818  101.15613514  143.27535793  174.39739349  182.80059622\n",
      "  182.38836181  188.5341451   166.699204    171.36033441  159.37562537\n",
      "  165.36680066  134.26491991   87.51715638  105.85682725  178.64356036\n",
      "  263.05255832  222.50577145  106.87424318   74.25019476   63.12138052\n",
      "  158.31340784   94.98495002 -152.54384491]\n",
      "Acceleration Averages: 130.3837372785265\n"
     ]
    }
   ],
   "source": [
    "# Large Rubber Kinetic Trial 8\n",
    "\n",
    "theta = np.radians(37.23572)\n",
    "\n",
    "rubber_kinetic = pd.read_csv('large_rubber_kinetic\\\\large_rubber_kinetic_trial8.csv')\n",
    "\n",
    "rubber_kinetic['mag a'] = rubber_kinetic['ax-hotpink'] / np.cos(theta)    \n",
    "\n",
    "lrk_trial8_a = rubber_kinetic['mag a'].to_numpy() \n",
    "\n",
    "lrk_trial8_a = lrk_trial8_a[~np.isnan(lrk_trial8_a)]\n",
    "\n",
    "print('Accelerations: ' + str(lrk_trial8_a))\n",
    "print('Acceleration Averages: ' + str(lrk_trial8_a.mean()))"
   ]
  },
  {
   "cell_type": "code",
   "execution_count": 77,
   "metadata": {},
   "outputs": [
    {
     "name": "stdout",
     "output_type": "stream",
     "text": [
      "Accelerations: [  0.          35.57885326  98.88008736 186.22991742 222.36783286\n",
      " 266.84139943 257.75069    294.92561977 226.71778658 287.47886743\n",
      " 256.16100152 331.74637281 229.29762428 238.51313763 199.05713969\n",
      " 180.3237591  150.6149625  189.36418409 182.01140341 276.80070665\n",
      " 192.28739945 -72.74489225]\n",
      "Acceleration Averages: 192.28199331779672\n"
     ]
    }
   ],
   "source": [
    "# Large Rubber Kinetic Trial 9\n",
    "\n",
    "theta = np.radians(37.23572)\n",
    "\n",
    "rubber_kinetic = pd.read_csv('large_rubber_kinetic\\\\large_rubber_kinetic_trial9.csv')\n",
    "\n",
    "rubber_kinetic['mag a'] = rubber_kinetic['ax-hotpink'] / np.cos(theta)    \n",
    "\n",
    "lrk_trial9_a = rubber_kinetic['mag a'].to_numpy() \n",
    "\n",
    "lrk_trial9_a = lrk_trial9_a[~np.isnan(lrk_trial9_a)]\n",
    "\n",
    "print('Accelerations: ' + str(lrk_trial9_a))\n",
    "print('Acceleration Averages: ' + str(lrk_trial9_a.mean()))"
   ]
  },
  {
   "cell_type": "code",
   "execution_count": 78,
   "metadata": {},
   "outputs": [
    {
     "name": "stdout",
     "output_type": "stream",
     "text": [
      "The total average accelaration is 1.650986 m/s^2\n",
      "The standard deviation of the averages is 0.152170 m/s^2\n"
     ]
    }
   ],
   "source": [
    "# Finding the Average Average Acceleration\n",
    "\n",
    "lrtot_avg = (lrk_trial9_a.mean() + lrk_trial8_a.mean() + lrk_trial7_a.mean() + lrk_trial6_a.mean() + lrk_trial5_a.mean() + lrk_trial4_a.mean() + lrk_trial3_a.mean() + lrk_trial2_a.mean() + lrk_trial1_a.mean()) / 9\n",
    "lrsdev_avg = np.std(np.array([lrk_trial9_a.mean(), lrk_trial8_a.mean(), lrk_trial7_a.mean(), lrk_trial6_a.mean(), lrk_trial5_a.mean(), lrk_trial4_a.mean(), lrk_trial3_a.mean(), lrk_trial2_a.mean(), lrk_trial1_a.mean()]))\n",
    "\n",
    "lrsdev_avg /= np.sqrt(9) \n",
    "\n",
    "print('The total average accelaration is %f m/s^2' % (float(lrtot_avg) * (0.785 / 79.131)))\n",
    "print('The standard deviation of the averages is %f m/s^2' % (float(lrsdev_avg) * (0.785 / 79.131)))"
   ]
  },
  {
   "cell_type": "markdown",
   "metadata": {},
   "source": [
    "# Small Rubber Kinetic"
   ]
  },
  {
   "cell_type": "code",
   "execution_count": 79,
   "metadata": {},
   "outputs": [
    {
     "name": "stdout",
     "output_type": "stream",
     "text": [
      "Accelerations: [158.8993741  137.8202604   92.45040935  92.42111153  75.93703372\n",
      "  77.22895349  68.98100981  57.94541029  36.90021475  18.32544151\n",
      "  33.51708211  55.73728124  59.61914056  54.52118795  22.50267852\n",
      " 113.15241012  60.37058017 145.09494988  11.91138037  58.49316402\n",
      "  14.31082049  76.29524699  85.73007617 100.28882004  38.93497925]\n",
      "Acceleration Averages: 69.89556067272972\n"
     ]
    }
   ],
   "source": [
    "# Small Rubber Kinetic Trial 1\n",
    "\n",
    "theta = np.radians(37.23572)\n",
    "\n",
    "rubber_kinetic = pd.read_csv('small_rubber_kinetic\\\\small_rubber_kinetic_trial1.csv')\n",
    "\n",
    "rubber_kinetic['mag a'] = rubber_kinetic['ax-hotpink'] / np.cos(theta)\n",
    "\n",
    "lrk_trial1_a = rubber_kinetic['mag a'].to_numpy() \n",
    "\n",
    "lrk_trial1_a = lrk_trial1_a[~np.isnan(lrk_trial1_a)]\n",
    "\n",
    "print('Accelerations: ' + str(lrk_trial1_a))\n",
    "print('Acceleration Averages: ' + str(lrk_trial1_a.mean()))"
   ]
  },
  {
   "cell_type": "code",
   "execution_count": 80,
   "metadata": {},
   "outputs": [
    {
     "name": "stdout",
     "output_type": "stream",
     "text": [
      "Accelerations: [130.22333386 163.11029322 142.18656762  65.48655629 -19.73956905\n",
      " -19.79875173 -10.49868361  49.88784963  71.83279989  86.88259025\n",
      "  78.66828086  62.00908199  83.13100323  79.92234186  69.30105791\n",
      "  92.66845937  86.4234537  150.50509465  94.00401941 125.57452004\n",
      "  75.90042299 126.8148476  128.16756903 135.6827262   66.36874989\n",
      " 128.02453431 149.68465834 330.20627732 145.5005116  112.41898767]\n",
      "Acceleration Averages: 99.35165281102776\n"
     ]
    }
   ],
   "source": [
    "theta = np.radians(37.23572)\n",
    "\n",
    "rubber_kinetic = pd.read_csv('small_rubber_kinetic\\\\small_rubber_kinetic_trial2.csv')\n",
    "\n",
    "rubber_kinetic['mag a'] = rubber_kinetic['ax-hotpink'] / np.cos(theta)\n",
    "\n",
    "lrk_trial2_a = rubber_kinetic['mag a'].to_numpy() \n",
    "\n",
    "lrk_trial2_a = lrk_trial2_a[~np.isnan(lrk_trial2_a)]\n",
    "\n",
    "print('Accelerations: ' + str(lrk_trial2_a))\n",
    "print('Acceleration Averages: ' + str(lrk_trial2_a.mean()))"
   ]
  },
  {
   "cell_type": "code",
   "execution_count": 81,
   "metadata": {},
   "outputs": [
    {
     "name": "stdout",
     "output_type": "stream",
     "text": [
      "Accelerations: [  0.           9.28508619   9.70068503  55.53642178  79.33918145\n",
      " 175.28029633 135.70277662 142.46387606   6.62893283  15.27683009\n",
      " -20.58164514  68.52127862  73.64343071  71.19266508  50.28057784\n",
      "  44.7880542   54.35715785  44.19294006  44.44046731  53.58239513\n",
      "  71.61198249  88.48083751  93.42332475 114.67965343 105.1114227\n",
      " 113.67763925 106.52340643 125.51896431  97.39972522 108.92810985\n",
      " 106.73655976 164.61804355 131.10925094 134.41388276 108.36478187\n",
      " 120.04503773 104.77982761  98.95976035]\n",
      "Acceleration Averages: 81.78983206699418\n"
     ]
    }
   ],
   "source": [
    "theta = np.radians(37.23572)\n",
    "\n",
    "rubber_kinetic = pd.read_csv('small_rubber_kinetic\\\\small_rubber_kinetic_trial3.csv')\n",
    "\n",
    "rubber_kinetic['mag a'] = rubber_kinetic['ax-hotpink'] / np.cos(theta)\n",
    "\n",
    "lrk_trial3_a = rubber_kinetic['mag a'].to_numpy() \n",
    "\n",
    "lrk_trial3_a = lrk_trial3_a[~np.isnan(lrk_trial3_a)]\n",
    "\n",
    "print('Accelerations: ' + str(lrk_trial3_a))\n",
    "print('Acceleration Averages: ' + str(lrk_trial3_a.mean()))"
   ]
  },
  {
   "cell_type": "code",
   "execution_count": 82,
   "metadata": {},
   "outputs": [
    {
     "name": "stdout",
     "output_type": "stream",
     "text": [
      "Accelerations: [  0.         203.41627831 152.10198455 206.50776441 222.68360005\n",
      " 177.00721153 226.78094465 212.56761877 403.53570122 229.48474538\n",
      " 284.10464324  88.74518789 181.72789175 138.19762203]\n",
      "Acceleration Averages: 194.77579955568015\n"
     ]
    }
   ],
   "source": [
    "theta = np.radians(37.23572)\n",
    "\n",
    "rubber_kinetic = pd.read_csv('small_rubber_kinetic\\\\small_rubber_kinetic_trial4.csv')\n",
    "\n",
    "rubber_kinetic['mag a'] = rubber_kinetic['ax-hotpink'] / np.cos(theta)\n",
    "\n",
    "lrk_trial4_a = rubber_kinetic['mag a'].to_numpy() \n",
    "\n",
    "lrk_trial4_a = lrk_trial4_a[~np.isnan(lrk_trial4_a)]\n",
    "\n",
    "print('Accelerations: ' + str(lrk_trial4_a))\n",
    "print('Acceleration Averages: ' + str(lrk_trial4_a.mean()))"
   ]
  },
  {
   "cell_type": "code",
   "execution_count": 83,
   "metadata": {},
   "outputs": [
    {
     "name": "stdout",
     "output_type": "stream",
     "text": [
      "Accelerations: [ 252.55015462  279.92455953  271.73828165  313.04366178  273.84339789\n",
      "  258.73324292  215.82704875  198.76751233  165.29223928  187.8681399\n",
      "  177.62012873  206.72466875  163.29060963 -239.69689164]\n",
      "Acceleration Averages: 194.6804824384662\n"
     ]
    }
   ],
   "source": [
    "theta = np.radians(37.23572)\n",
    "\n",
    "rubber_kinetic = pd.read_csv('small_rubber_kinetic\\\\small_rubber_kinetic_trial5.csv')\n",
    "\n",
    "rubber_kinetic['mag a'] = rubber_kinetic['ax-hotpink'] / np.cos(theta)\n",
    "\n",
    "lrk_trial5_a = rubber_kinetic['mag a'].to_numpy() \n",
    "\n",
    "lrk_trial5_a = lrk_trial5_a[~np.isnan(lrk_trial5_a)]\n",
    "\n",
    "print('Accelerations: ' + str(lrk_trial5_a))\n",
    "print('Acceleration Averages: ' + str(lrk_trial5_a.mean()))"
   ]
  },
  {
   "cell_type": "code",
   "execution_count": 84,
   "metadata": {},
   "outputs": [
    {
     "name": "stdout",
     "output_type": "stream",
     "text": [
      "Accelerations: [-19.73956905 -19.79875173 -10.49868361  49.88784963  71.83279989\n",
      "  86.88259025  78.66828086  62.00908199  83.13100323  79.92234186\n",
      "  69.30105791  92.66845937  86.4234537  150.50509465  94.00401941\n",
      " 125.57452004  75.90042299 126.8148476  128.16756903 135.6827262\n",
      "  66.36874989 128.02453431 149.68465834 330.20627732 145.5005116\n",
      " 112.41898767]\n",
      "Acceleration Averages: 95.36703205183895\n"
     ]
    }
   ],
   "source": [
    "theta = np.radians(37.23572)\n",
    "\n",
    "rubber_kinetic = pd.read_csv('small_rubber_kinetic\\\\small_rubber_kinetic_trial6.csv')\n",
    "\n",
    "rubber_kinetic['mag a'] = rubber_kinetic['ax-hotpink'] / np.cos(theta)\n",
    "\n",
    "lrk_trial6_a = rubber_kinetic['mag a'].to_numpy() \n",
    "\n",
    "lrk_trial6_a = lrk_trial6_a[~np.isnan(lrk_trial6_a)]\n",
    "\n",
    "print('Accelerations: ' + str(lrk_trial6_a))\n",
    "print('Acceleration Averages: ' + str(lrk_trial6_a.mean()))"
   ]
  },
  {
   "cell_type": "code",
   "execution_count": 85,
   "metadata": {},
   "outputs": [
    {
     "name": "stdout",
     "output_type": "stream",
     "text": [
      "Accelerations: [  0.           9.28508619   9.70068503  55.53642178  79.33918145\n",
      " 175.28029633 135.70277662 142.46387606   6.62893283  15.27683009\n",
      " -20.58164514  68.52127862  73.64343071  71.19266508  50.28057784\n",
      "  44.7880542   54.35715785  44.19294006  44.44046731  53.58239513\n",
      "  71.61198249  88.48083751  93.42332475 114.67965343 105.1114227\n",
      " 113.67763925 106.52340643 125.51896431  97.39972522 108.92810985\n",
      " 106.73655976 164.61804355 131.10925094 134.41388276 108.36478187\n",
      " 120.04503773 104.77982761  98.95976035]\n",
      "Acceleration Averages: 81.78983206699418\n"
     ]
    }
   ],
   "source": [
    "theta = np.radians(37.23572)\n",
    "\n",
    "rubber_kinetic = pd.read_csv('small_rubber_kinetic\\\\small_rubber_kinetic_trial7.csv')\n",
    "\n",
    "rubber_kinetic['mag a'] = rubber_kinetic['ax-hotpink'] / np.cos(theta)\n",
    "\n",
    "lrk_trial7_a = rubber_kinetic['mag a'].to_numpy() \n",
    "\n",
    "lrk_trial7_a = lrk_trial7_a[~np.isnan(lrk_trial7_a)]\n",
    "\n",
    "print('Accelerations: ' + str(lrk_trial7_a))\n",
    "print('Acceleration Averages: ' + str(lrk_trial7_a.mean()))"
   ]
  },
  {
   "cell_type": "code",
   "execution_count": 86,
   "metadata": {},
   "outputs": [
    {
     "name": "stdout",
     "output_type": "stream",
     "text": [
      "Accelerations: [  0.         203.41627831 152.10198455 206.50776441 222.68360005\n",
      " 177.00721153 226.78094465 212.56761877 403.53570122 229.48474538\n",
      " 284.10464324  88.74518789 181.72789175 138.19762203]\n",
      "Acceleration Averages: 194.77579955568015\n"
     ]
    }
   ],
   "source": [
    "theta = np.radians(37.23572)\n",
    "\n",
    "rubber_kinetic = pd.read_csv('small_rubber_kinetic\\\\small_rubber_kinetic_trial8.csv')\n",
    "\n",
    "rubber_kinetic['mag a'] = rubber_kinetic['ax-hotpink'] / np.cos(theta)\n",
    "\n",
    "lrk_trial8_a = rubber_kinetic['mag a'].to_numpy() \n",
    "\n",
    "lrk_trial8_a = lrk_trial8_a[~np.isnan(lrk_trial8_a)]\n",
    "\n",
    "print('Accelerations: ' + str(lrk_trial8_a))\n",
    "print('Acceleration Averages: ' + str(lrk_trial8_a.mean()))"
   ]
  },
  {
   "cell_type": "code",
   "execution_count": 87,
   "metadata": {},
   "outputs": [
    {
     "name": "stdout",
     "output_type": "stream",
     "text": [
      "Accelerations: [ 252.55015462  279.92455953  271.73828165  313.04366178  273.84339789\n",
      "  258.73324292  215.82704875  198.76751233  165.29223928  187.8681399\n",
      "  177.62012873  206.72466875  163.29060963 -239.69689164]\n",
      "Acceleration Averages: 194.6804824384662\n"
     ]
    }
   ],
   "source": [
    "theta = np.radians(37.23572)\n",
    "\n",
    "rubber_kinetic = pd.read_csv('small_rubber_kinetic\\\\small_rubber_kinetic_trial9.csv')\n",
    "\n",
    "rubber_kinetic['mag a'] = rubber_kinetic['ax-hotpink'] / np.cos(theta)\n",
    "\n",
    "lrk_trial9_a = rubber_kinetic['mag a'].to_numpy() \n",
    "\n",
    "lrk_trial9_a = lrk_trial9_a[~np.isnan(lrk_trial9_a)]\n",
    "\n",
    "print('Accelerations: ' + str(lrk_trial9_a))\n",
    "print('Acceleration Averages: ' + str(lrk_trial9_a.mean()))"
   ]
  },
  {
   "cell_type": "code",
   "execution_count": 88,
   "metadata": {},
   "outputs": [
    {
     "name": "stdout",
     "output_type": "stream",
     "text": [
      "The total average accelaration is 1.330534 m/s^2\n",
      "The standard deviation of the averages is 0.181137 m/s^2\n"
     ]
    }
   ],
   "source": [
    "# Finding the Average Average Acceleration\n",
    "\n",
    "srtot_avg = (lrk_trial9_a.mean() + lrk_trial8_a.mean() + lrk_trial7_a.mean() + lrk_trial6_a.mean() + lrk_trial5_a.mean() + lrk_trial4_a.mean() + lrk_trial3_a.mean() + lrk_trial2_a.mean() + lrk_trial1_a.mean()) / 9\n",
    "srsdev_avg = np.std(np.array([lrk_trial9_a.mean(), lrk_trial8_a.mean(), lrk_trial7_a.mean(), lrk_trial6_a.mean(), lrk_trial5_a.mean(), lrk_trial4_a.mean(), lrk_trial3_a.mean(), lrk_trial2_a.mean(), lrk_trial1_a.mean()]))\n",
    "\n",
    "srsdev_avg /= np.sqrt(9)\n",
    "\n",
    "print('The total average accelaration is %f m/s^2' % (float(srtot_avg) * (0.785 / 79.131)))\n",
    "print('The standard deviation of the averages is %f m/s^2' % (float(srsdev_avg) * (0.785 / 79.131)))"
   ]
  },
  {
   "cell_type": "markdown",
   "metadata": {},
   "source": [
    "# Large Wood Kinetic"
   ]
  },
  {
   "cell_type": "code",
   "execution_count": 89,
   "metadata": {},
   "outputs": [
    {
     "name": "stdout",
     "output_type": "stream",
     "text": [
      "Accelerations: [260.75642849 136.18403111 151.51921592 159.22817825 298.85455381\n",
      " 182.08655583 226.0465003   95.3371152 ]\n",
      "Acceleration Averages: 188.75157236394375\n"
     ]
    }
   ],
   "source": [
    "# Large Wood Kinetic Trial 1\n",
    "\n",
    "theta = np.radians(37.23572)\n",
    "\n",
    "rubber_kinetic = pd.read_csv('small_wood_kinetic\\\\small_wood_kinetic_trial1.csv')\n",
    "\n",
    "rubber_kinetic['mag a'] = rubber_kinetic['ax-hotpink'] / np.cos(theta)\n",
    "\n",
    "lrk_trial1_a = rubber_kinetic['mag a'].to_numpy() \n",
    "\n",
    "lrk_trial1_a = lrk_trial1_a[~np.isnan(lrk_trial1_a)]\n",
    "\n",
    "print('Accelerations: ' + str(lrk_trial1_a))\n",
    "print('Acceleration Averages: ' + str(lrk_trial1_a.mean()))"
   ]
  },
  {
   "cell_type": "code",
   "execution_count": 90,
   "metadata": {},
   "outputs": [
    {
     "name": "stdout",
     "output_type": "stream",
     "text": [
      "Accelerations: [241.67717716 215.17314805 189.55542497 158.76499549 206.12169567\n",
      " 203.2020068  274.01436726]\n",
      "Acceleration Averages: 212.64411648461373\n"
     ]
    }
   ],
   "source": [
    "# Large Wood Kinetic Trial 2\n",
    "\n",
    "theta = np.radians(37.23572)\n",
    "\n",
    "rubber_kinetic = pd.read_csv('large_wood_kinetic\\\\large_wood_kinetic_trial2.csv')\n",
    "\n",
    "rubber_kinetic['mag a'] = rubber_kinetic['ax-hotpink'] / np.cos(theta)\n",
    "\n",
    "lrk_trial2_a = rubber_kinetic['mag a'].to_numpy() \n",
    "\n",
    "lrk_trial2_a = lrk_trial2_a[~np.isnan(lrk_trial2_a)]\n",
    "\n",
    "print('Accelerations: ' + str(lrk_trial2_a))\n",
    "print('Acceleration Averages: ' + str(lrk_trial2_a.mean()))"
   ]
  },
  {
   "cell_type": "code",
   "execution_count": 91,
   "metadata": {},
   "outputs": [
    {
     "name": "stdout",
     "output_type": "stream",
     "text": [
      "Accelerations: [240.63829541 197.07212371 125.16725708 172.47857433 168.89199655\n",
      " 264.15140381 166.77668051 165.42537517]\n",
      "Acceleration Averages: 187.5752133208009\n"
     ]
    }
   ],
   "source": [
    "# Large Wood Kinetic Trial 3\n",
    "\n",
    "theta = np.radians(37.23572)\n",
    "\n",
    "rubber_kinetic = pd.read_csv('large_wood_kinetic\\\\large_wood_kinetic_trial3.csv')\n",
    "\n",
    "rubber_kinetic['mag a'] = rubber_kinetic['ax-hotpink'] / np.cos(theta)\n",
    "\n",
    "lrk_trial3_a = rubber_kinetic['mag a'].to_numpy() \n",
    "\n",
    "lrk_trial3_a = lrk_trial3_a[~np.isnan(lrk_trial3_a)]\n",
    "\n",
    "print('Accelerations: ' + str(lrk_trial3_a))\n",
    "print('Acceleration Averages: ' + str(lrk_trial3_a.mean()))"
   ]
  },
  {
   "cell_type": "code",
   "execution_count": 92,
   "metadata": {},
   "outputs": [
    {
     "name": "stdout",
     "output_type": "stream",
     "text": [
      "Accelerations: [258.11586068 162.5786487  187.16311865 167.17587798 261.02142477\n",
      " 164.4214422  177.89426626 132.7877261 ]\n",
      "Acceleration Averages: 188.8947956683707\n"
     ]
    }
   ],
   "source": [
    "# Large Wood Kinetic Trial 4\n",
    "\n",
    "theta = np.radians(37.23572)\n",
    "\n",
    "rubber_kinetic = pd.read_csv('large_wood_kinetic\\\\large_wood_kinetic_trial4.csv')\n",
    "\n",
    "rubber_kinetic['mag a'] = rubber_kinetic['ax-hotpink'] / np.cos(theta)\n",
    "\n",
    "lrk_trial4_a = rubber_kinetic['mag a'].to_numpy() \n",
    "\n",
    "lrk_trial4_a = lrk_trial4_a[~np.isnan(lrk_trial4_a)]\n",
    "\n",
    "print('Accelerations: ' + str(lrk_trial4_a))\n",
    "print('Acceleration Averages: ' + str(lrk_trial4_a.mean()))"
   ]
  },
  {
   "cell_type": "code",
   "execution_count": 93,
   "metadata": {},
   "outputs": [
    {
     "name": "stdout",
     "output_type": "stream",
     "text": [
      "Accelerations: [261.8410658  250.6267957  120.78495784 145.03765569 140.22365167\n",
      " 256.37242835 189.42243023 203.21091487]\n",
      "Acceleration Averages: 195.9399875188978\n"
     ]
    }
   ],
   "source": [
    "# Large Wood Kinetic Trial 5\n",
    "\n",
    "theta = np.radians(37.23572)\n",
    "\n",
    "rubber_kinetic = pd.read_csv('large_wood_kinetic\\\\large_wood_kinetic_trial5.csv')\n",
    "\n",
    "rubber_kinetic['mag a'] = rubber_kinetic['ax-hotpink'] / np.cos(theta)\n",
    "\n",
    "lrk_trial5_a = rubber_kinetic['mag a'].to_numpy() \n",
    "\n",
    "lrk_trial5_a = lrk_trial5_a[~np.isnan(lrk_trial5_a)]\n",
    "\n",
    "print('Accelerations: ' + str(lrk_trial5_a))\n",
    "print('Acceleration Averages: ' + str(lrk_trial5_a.mean()))"
   ]
  },
  {
   "cell_type": "code",
   "execution_count": 94,
   "metadata": {},
   "outputs": [
    {
     "name": "stdout",
     "output_type": "stream",
     "text": [
      "Accelerations: [261.8410658  250.6267957  120.78495784 145.03765569 140.22365167\n",
      " 256.37242835 189.42243023 203.21091487]\n",
      "Acceleration Averages: 195.9399875188978\n"
     ]
    }
   ],
   "source": [
    "# Large Wood Kinetic Trial 6\n",
    "\n",
    "theta = np.radians(37.23572)\n",
    "\n",
    "rubber_kinetic = pd.read_csv('large_wood_kinetic\\\\large_wood_kinetic_trial6.csv')\n",
    "\n",
    "rubber_kinetic['mag a'] = rubber_kinetic['ax-hotpink'] / np.cos(theta)\n",
    "\n",
    "lrk_trial6_a = rubber_kinetic['mag a'].to_numpy() \n",
    "\n",
    "lrk_trial6_a = lrk_trial6_a[~np.isnan(lrk_trial6_a)]\n",
    "\n",
    "print('Accelerations: ' + str(lrk_trial6_a))\n",
    "print('Acceleration Averages: ' + str(lrk_trial6_a.mean()))"
   ]
  },
  {
   "cell_type": "code",
   "execution_count": 95,
   "metadata": {},
   "outputs": [
    {
     "name": "stdout",
     "output_type": "stream",
     "text": [
      "Accelerations: [178.45096758 154.86934338 188.75765758 155.14327453  97.38563899\n",
      "  93.58446737 121.72170871]\n",
      "Acceleration Averages: 141.416151164418\n"
     ]
    }
   ],
   "source": [
    "# Large Wood Kinetic Trial 7\n",
    "\n",
    "theta = np.radians(37.23572)\n",
    "\n",
    "rubber_kinetic = pd.read_csv('large_wood_kinetic\\\\large_wood_kinetic_trial7.csv')\n",
    "\n",
    "rubber_kinetic['mag a'] = rubber_kinetic['ax-hotpink'] / np.cos(theta)\n",
    "\n",
    "lrk_trial7_a = rubber_kinetic['mag a'].to_numpy() \n",
    "\n",
    "lrk_trial7_a = lrk_trial7_a[~np.isnan(lrk_trial7_a)]\n",
    "\n",
    "print('Accelerations: ' + str(lrk_trial7_a))\n",
    "print('Acceleration Averages: ' + str(lrk_trial7_a.mean()))"
   ]
  },
  {
   "cell_type": "code",
   "execution_count": 96,
   "metadata": {},
   "outputs": [
    {
     "name": "stdout",
     "output_type": "stream",
     "text": [
      "Accelerations: [229.18820735 290.57582436 157.70342475 121.72669289  93.46324766\n",
      " 122.06818251 160.28531382 137.63601955]\n",
      "Acceleration Averages: 164.08086411109642\n"
     ]
    }
   ],
   "source": [
    "# Large Wood Kinetic Trial 8\n",
    "\n",
    "theta = np.radians(37.23572)\n",
    "\n",
    "rubber_kinetic = pd.read_csv('large_wood_kinetic\\\\large_wood_kinetic_trial8.csv')\n",
    "\n",
    "rubber_kinetic['mag a'] = rubber_kinetic['ax-hotpink'] / np.cos(theta)\n",
    "\n",
    "lrk_trial8_a = rubber_kinetic['mag a'].to_numpy() \n",
    "\n",
    "lrk_trial8_a = lrk_trial8_a[~np.isnan(lrk_trial8_a)]\n",
    "\n",
    "print('Accelerations: ' + str(lrk_trial8_a))\n",
    "print('Acceleration Averages: ' + str(lrk_trial8_a.mean()))"
   ]
  },
  {
   "cell_type": "code",
   "execution_count": 97,
   "metadata": {},
   "outputs": [
    {
     "name": "stdout",
     "output_type": "stream",
     "text": [
      "Accelerations: [225.79059181 144.54419543 136.22732788 107.29519313 193.95106646\n",
      " 184.32094421 155.88264591 116.91206831]\n",
      "Acceleration Averages: 158.11550414034627\n"
     ]
    }
   ],
   "source": [
    "# Large Wood Kinetic Trial 9\n",
    "\n",
    "theta = np.radians(37.23572)\n",
    "\n",
    "rubber_kinetic = pd.read_csv('large_wood_kinetic\\\\large_wood_kinetic_trial9.csv')\n",
    "\n",
    "rubber_kinetic['mag a'] = rubber_kinetic['ax-hotpink'] / np.cos(theta)\n",
    "\n",
    "lrk_trial9_a = rubber_kinetic['mag a'].to_numpy() \n",
    "\n",
    "lrk_trial9_a = lrk_trial9_a[~np.isnan(lrk_trial9_a)]\n",
    "\n",
    "print('Accelerations: ' + str(lrk_trial9_a))\n",
    "print('Acceleration Averages: ' + str(lrk_trial9_a.mean()))"
   ]
  },
  {
   "cell_type": "code",
   "execution_count": 98,
   "metadata": {},
   "outputs": [
    {
     "name": "stdout",
     "output_type": "stream",
     "text": [
      "The total average accelaration is 1.800371 m/s^2\n",
      "The standard deviation of the averages is 0.069609 m/s^2\n"
     ]
    }
   ],
   "source": [
    "# Finding the Average Average Acceleration\n",
    "\n",
    "lwtot_avg = (lrk_trial9_a.mean() + lrk_trial8_a.mean() + lrk_trial7_a.mean() + lrk_trial6_a.mean() + lrk_trial5_a.mean() + lrk_trial4_a.mean() + lrk_trial3_a.mean() + lrk_trial2_a.mean() + lrk_trial1_a.mean()) / 9\n",
    "lwsdev_avg = np.std(np.array([lrk_trial9_a.mean(), lrk_trial8_a.mean(), lrk_trial7_a.mean(), lrk_trial6_a.mean(), lrk_trial5_a.mean(), lrk_trial4_a.mean(), lrk_trial3_a.mean(), lrk_trial2_a.mean(), lrk_trial1_a.mean()]))\n",
    "\n",
    "lwsdev_avg /= np.sqrt(9)\n",
    "\n",
    "print('The total average accelaration is %f m/s^2' % (float(lwtot_avg) * (0.785 / 79.131)))\n",
    "print('The standard deviation of the averages is %f m/s^2' % (float(lwsdev_avg) * (0.785 / 79.131)))"
   ]
  },
  {
   "cell_type": "markdown",
   "metadata": {},
   "source": [
    "# Small Wood Kinetic"
   ]
  },
  {
   "cell_type": "code",
   "execution_count": 99,
   "metadata": {},
   "outputs": [
    {
     "name": "stdout",
     "output_type": "stream",
     "text": [
      "Accelerations: [260.75642849 136.18403111 151.51921592 159.22817825 298.85455381\n",
      " 182.08655583 226.0465003   95.3371152 ]\n",
      "Acceleration Averages: 188.75157236394375\n"
     ]
    }
   ],
   "source": [
    "# Small Wood Kinetic Trial 1\n",
    "\n",
    "theta = np.radians(37.23572)\n",
    "\n",
    "rubber_kinetic = pd.read_csv('small_wood_kinetic\\\\small_wood_kinetic_trial1.csv')\n",
    "\n",
    "rubber_kinetic['mag a'] = rubber_kinetic['ax-hotpink'] / np.cos(theta)\n",
    "\n",
    "lrk_trial1_a = rubber_kinetic['mag a'].to_numpy() \n",
    "\n",
    "lrk_trial1_a = lrk_trial1_a[~np.isnan(lrk_trial1_a)]\n",
    "\n",
    "print('Accelerations: ' + str(lrk_trial1_a))\n",
    "print('Acceleration Averages: ' + str(lrk_trial1_a.mean()))"
   ]
  },
  {
   "cell_type": "code",
   "execution_count": 100,
   "metadata": {},
   "outputs": [
    {
     "name": "stdout",
     "output_type": "stream",
     "text": [
      "Accelerations: [284.48285992 255.46891704 221.85855355 170.08149069 153.46133869\n",
      " 170.08699439 190.2947386  234.56957866]\n",
      "Acceleration Averages: 210.0380589429992\n"
     ]
    }
   ],
   "source": [
    "# Small Wood Kinetic Trial 2\n",
    "\n",
    "theta = np.radians(37.23572)\n",
    "\n",
    "rubber_kinetic = pd.read_csv('small_wood_kinetic\\\\small_wood_kinetic_trial2.csv')\n",
    "\n",
    "rubber_kinetic['mag a'] = rubber_kinetic['ax-hotpink'] / np.cos(theta)\n",
    "\n",
    "lrk_trial2_a = rubber_kinetic['mag a'].to_numpy() \n",
    "\n",
    "lrk_trial2_a = lrk_trial2_a[~np.isnan(lrk_trial2_a)]\n",
    "\n",
    "print('Accelerations: ' + str(lrk_trial2_a))\n",
    "print('Acceleration Averages: ' + str(lrk_trial2_a.mean()))"
   ]
  },
  {
   "cell_type": "code",
   "execution_count": 101,
   "metadata": {},
   "outputs": [
    {
     "name": "stdout",
     "output_type": "stream",
     "text": [
      "Accelerations: [276.60191026 250.49926501 197.18015082 158.58604256 187.67301093\n",
      " 173.81827751]\n",
      "Acceleration Averages: 207.3931095155649\n"
     ]
    }
   ],
   "source": [
    "# Small Wood Kinetic Trial 3\n",
    "\n",
    "theta = np.radians(37.23572)\n",
    "\n",
    "rubber_kinetic = pd.read_csv('small_wood_kinetic\\\\small_wood_kinetic_trial3.csv')\n",
    "\n",
    "rubber_kinetic['mag a'] = rubber_kinetic['ax-hotpink'] / np.cos(theta)\n",
    "\n",
    "lrk_trial3_a = rubber_kinetic['mag a'].to_numpy() \n",
    "\n",
    "lrk_trial3_a = lrk_trial3_a[~np.isnan(lrk_trial3_a)]\n",
    "\n",
    "print('Accelerations: ' + str(lrk_trial3_a))\n",
    "print('Acceleration Averages: ' + str(lrk_trial3_a.mean()))"
   ]
  },
  {
   "cell_type": "code",
   "execution_count": 102,
   "metadata": {},
   "outputs": [
    {
     "name": "stdout",
     "output_type": "stream",
     "text": [
      "Accelerations: [304.56903089 244.13478875 155.59193674 174.36997025 212.24244326\n",
      " 256.63649196]\n",
      "Acceleration Averages: 224.5907769753544\n"
     ]
    }
   ],
   "source": [
    "# Small Wood Kinetic Trial 4\n",
    "\n",
    "theta = np.radians(37.23572)\n",
    "\n",
    "rubber_kinetic = pd.read_csv('small_wood_kinetic\\\\small_wood_kinetic_trial4.csv')\n",
    "\n",
    "rubber_kinetic['mag a'] = rubber_kinetic['ax-hotpink'] / np.cos(theta)\n",
    "\n",
    "lrk_trial4_a = rubber_kinetic['mag a'].to_numpy() \n",
    "\n",
    "lrk_trial4_a = lrk_trial4_a[~np.isnan(lrk_trial4_a)]\n",
    "\n",
    "print('Accelerations: ' + str(lrk_trial4_a))\n",
    "print('Acceleration Averages: ' + str(lrk_trial4_a.mean()))"
   ]
  },
  {
   "cell_type": "code",
   "execution_count": 103,
   "metadata": {},
   "outputs": [
    {
     "name": "stdout",
     "output_type": "stream",
     "text": [
      "Accelerations: [332.03273142 279.26544125 248.33944905 142.50187956 162.5566298\n",
      " 151.01555421 189.51111115 193.87179229]\n",
      "Acceleration Averages: 212.38682359178785\n"
     ]
    }
   ],
   "source": [
    "# Small Wood Kinetic Trial 5\n",
    "\n",
    "theta = np.radians(37.23572)\n",
    "\n",
    "rubber_kinetic = pd.read_csv('small_wood_kinetic\\\\small_wood_kinetic_trial5.csv')\n",
    "\n",
    "rubber_kinetic['mag a'] = rubber_kinetic['ax-hotpink'] / np.cos(theta)\n",
    "\n",
    "lrk_trial5_a = rubber_kinetic['mag a'].to_numpy() \n",
    "\n",
    "lrk_trial5_a = lrk_trial5_a[~np.isnan(lrk_trial5_a)]\n",
    "\n",
    "print('Accelerations: ' + str(lrk_trial5_a))\n",
    "print('Acceleration Averages: ' + str(lrk_trial5_a.mean()))"
   ]
  },
  {
   "cell_type": "code",
   "execution_count": 104,
   "metadata": {},
   "outputs": [
    {
     "name": "stdout",
     "output_type": "stream",
     "text": [
      "Accelerations: [191.6264689  243.12381967 273.95781015 238.21944077 194.59051435\n",
      " 100.76991093]\n",
      "Acceleration Averages: 207.0479941283313\n"
     ]
    }
   ],
   "source": [
    "# Small Wood Kinetic Trial 6\n",
    "\n",
    "theta = np.radians(37.23572)\n",
    "\n",
    "rubber_kinetic = pd.read_csv('small_wood_kinetic\\\\small_wood_kinetic_trial6.csv')\n",
    "\n",
    "rubber_kinetic['mag a'] = rubber_kinetic['ax-hotpink'] / np.cos(theta)\n",
    "\n",
    "lrk_trial6_a = rubber_kinetic['mag a'].to_numpy() \n",
    "\n",
    "lrk_trial6_a = lrk_trial6_a[~np.isnan(lrk_trial6_a)]\n",
    "\n",
    "print('Accelerations: ' + str(lrk_trial6_a))\n",
    "print('Acceleration Averages: ' + str(lrk_trial6_a.mean()))"
   ]
  },
  {
   "cell_type": "code",
   "execution_count": 105,
   "metadata": {},
   "outputs": [
    {
     "name": "stdout",
     "output_type": "stream",
     "text": [
      "Accelerations: [191.6264689  243.12381967 273.95781015 238.21944077 194.59051435\n",
      " 100.76991093]\n",
      "Acceleration Averages: 207.0479941283313\n"
     ]
    }
   ],
   "source": [
    "# Small Wood Kinetic Trial 7\n",
    "\n",
    "theta = np.radians(37.23572)\n",
    "\n",
    "rubber_kinetic = pd.read_csv('small_wood_kinetic\\\\small_wood_kinetic_trial7.csv')\n",
    "\n",
    "rubber_kinetic['mag a'] = rubber_kinetic['ax-hotpink'] / np.cos(theta)\n",
    "\n",
    "lrk_trial7_a = rubber_kinetic['mag a'].to_numpy() \n",
    "\n",
    "lrk_trial7_a = lrk_trial7_a[~np.isnan(lrk_trial7_a)]\n",
    "\n",
    "print('Accelerations: ' + str(lrk_trial7_a))\n",
    "print('Acceleration Averages: ' + str(lrk_trial7_a.mean()))"
   ]
  },
  {
   "cell_type": "code",
   "execution_count": 106,
   "metadata": {},
   "outputs": [
    {
     "name": "stdout",
     "output_type": "stream",
     "text": [
      "Accelerations: [284.48285992 255.46891704 221.85855355 170.08149069 153.46133869\n",
      " 170.08699439 190.2947386  234.56957866]\n",
      "Acceleration Averages: 210.0380589429992\n"
     ]
    }
   ],
   "source": [
    "# Small Wood Kinetic Trial 8\n",
    "\n",
    "theta = np.radians(37.23572)\n",
    "\n",
    "rubber_kinetic = pd.read_csv('small_wood_kinetic\\\\small_wood_kinetic_trial8.csv')\n",
    "\n",
    "rubber_kinetic['mag a'] = rubber_kinetic['ax-hotpink'] / np.cos(theta)\n",
    "\n",
    "lrk_trial8_a = rubber_kinetic['mag a'].to_numpy() \n",
    "\n",
    "lrk_trial8_a = lrk_trial8_a[~np.isnan(lrk_trial8_a)]\n",
    "\n",
    "print('Accelerations: ' + str(lrk_trial8_a))\n",
    "print('Acceleration Averages: ' + str(lrk_trial8_a.mean()))"
   ]
  },
  {
   "cell_type": "code",
   "execution_count": 107,
   "metadata": {},
   "outputs": [
    {
     "name": "stdout",
     "output_type": "stream",
     "text": [
      "Accelerations: [332.03273142 279.26544125 248.33944905 142.50187956 162.5566298\n",
      " 151.01555421 189.51111115 193.87179229]\n",
      "Acceleration Averages: 212.38682359178785\n"
     ]
    }
   ],
   "source": [
    "# Small Wood Kinetic Trial 9\n",
    "\n",
    "theta = np.radians(37.23572)\n",
    "\n",
    "rubber_kinetic = pd.read_csv('small_wood_kinetic\\\\small_wood_kinetic_trial9.csv')\n",
    "\n",
    "rubber_kinetic['mag a'] = rubber_kinetic['ax-hotpink'] / np.cos(theta)\n",
    "\n",
    "lrk_trial9_a = rubber_kinetic['mag a'].to_numpy() \n",
    "\n",
    "lrk_trial9_a = lrk_trial9_a[~np.isnan(lrk_trial9_a)]\n",
    "\n",
    "print('Accelerations: ' + str(lrk_trial9_a))\n",
    "print('Acceleration Averages: ' + str(lrk_trial9_a.mean()))"
   ]
  },
  {
   "cell_type": "code",
   "execution_count": 108,
   "metadata": {},
   "outputs": [
    {
     "name": "stdout",
     "output_type": "stream",
     "text": [
      "The total average accelaration is 2.071880 m/s^2\n",
      "The standard deviation of the averages is 0.028915 m/s^2\n"
     ]
    }
   ],
   "source": [
    "swtot_avg = (lrk_trial9_a.mean() + lrk_trial8_a.mean() + lrk_trial7_a.mean() + lrk_trial6_a.mean() + lrk_trial5_a.mean() + lrk_trial4_a.mean() + lrk_trial3_a.mean() + lrk_trial2_a.mean() + lrk_trial1_a.mean()) / 9\n",
    "swsdev_avg = np.std(np.array([lrk_trial9_a.mean(), lrk_trial8_a.mean(), lrk_trial7_a.mean(), lrk_trial6_a.mean(), lrk_trial5_a.mean(), lrk_trial4_a.mean(), lrk_trial3_a.mean(), lrk_trial2_a.mean(), lrk_trial1_a.mean()]))\n",
    "\n",
    "swsdev_avg /= np.sqrt(9)\n",
    "\n",
    "print('The total average accelaration is %f m/s^2' % (float(swtot_avg) * (0.785 / 79.131)))\n",
    "print('The standard deviation of the averages is %f m/s^2' % (float(swsdev_avg) * (0.785 / 79.131)))"
   ]
  },
  {
   "cell_type": "markdown",
   "metadata": {},
   "source": [
    "# Calculating $\\mu_k$"
   ]
  },
  {
   "cell_type": "code",
   "execution_count": 114,
   "metadata": {},
   "outputs": [
    {
     "name": "stdout",
     "output_type": "stream",
     "text": [
      "The coefficient of kinetic friction for small rubber is 0.930382 (Uncertainty: 0.023192)\n",
      "The coefficient of kinetic friction for large rubber is 0.971411 (Uncertainty: 0.019483)\n",
      "The coefficient of kinetic friction for small wood is 1.025301 (Uncertainty: 0.003702)\n",
      "The coefficient of kinetic friction for large wood is 0.990538 (Uncertainty: 0.008913)\n"
     ]
    }
   ],
   "source": [
    "g = 9.81\n",
    "\n",
    "# Small Rubber\n",
    "\n",
    "sigma_sr = ((srsdev_avg * (0.785 / 79.131)) / (g * np.cos(theta)))\n",
    "mu_sr = ((srtot_avg * (0.785 / 79.131)) / (g * np.cos(theta))) + np.tan(theta)\n",
    "print('The coefficient of kinetic friction for small rubber is %f (Uncertainty: %f)' % (mu_sr, sigma_sr))\n",
    "\n",
    "# Large Rubber\n",
    "\n",
    "sigma_lr = ((lrsdev_avg * (0.785 / 79.131)) / (g * np.cos(theta))) \n",
    "mu_lr = ((lrtot_avg * (0.785 / 79.131)) / (g * np.cos(theta))) + np.tan(theta)\n",
    "print('The coefficient of kinetic friction for large rubber is %f (Uncertainty: %f)' % (mu_lr, sigma_lr))\n",
    "\n",
    "# Small Wood\n",
    "\n",
    "sigma_sw = ((swsdev_avg * (0.785 / 79.131)) / (g * np.cos(theta))) \n",
    "mu_sw = ((swtot_avg * (0.785 / 79.131)) / (g * np.cos(theta))) + np.tan(theta)\n",
    "print('The coefficient of kinetic friction for small wood is %f (Uncertainty: %f)' % (mu_sw, sigma_sw))\n",
    "\n",
    "# Large Wood\n",
    "\n",
    "sigma_lw = ((lwsdev_avg * (0.785 / 79.131))/ (g * np.cos(theta))) \n",
    "mu_lw = ((lwtot_avg * (0.785 / 79.131)) / (g * np.cos(theta))) + np.tan(theta)\n",
    "print('The coefficient of kinetic friction for large wood is %f (Uncertainty: %f)' % (mu_lw, sigma_lw))\n",
    "\n"
   ]
  },
  {
   "cell_type": "code",
   "execution_count": 116,
   "metadata": {},
   "outputs": [
    {
     "name": "stdout",
     "output_type": "stream",
     "text": [
      "[0.9152293799496063, 0.945533910109366]\n",
      "[0.958682149482617, 0.9841404179797244]\n",
      "[1.022882377740293, 1.0277199772060976]\n",
      "[0.9847151168298074, 0.996360791347584]\n"
     ]
    }
   ],
   "source": [
    "# Calculate Confidence Intervals\n",
    "\n",
    "# Small Rubber\n",
    "\n",
    "low_bound_sr = mu_sr - 1.96 * (sigma_sr / np.sqrt(9))\n",
    "up_bound_sr = mu_sr + 1.96 * (sigma_sr / np.sqrt(9))\n",
    "\n",
    "bounds_sr = [low_bound_sr, up_bound_sr]\n",
    "\n",
    "print(bounds_sr)\n",
    "\n",
    "# Large Rubber\n",
    "\n",
    "low_bound_lr = mu_lr - 1.96 * (sigma_lr / np.sqrt(9))\n",
    "up_bound_lr = mu_lr + 1.96 * (sigma_lr / np.sqrt(9))\n",
    "\n",
    "bounds_lr = [low_bound_lr, up_bound_lr]\n",
    "\n",
    "print(bounds_lr)\n",
    "\n",
    "# Small Wood\n",
    "\n",
    "low_bound_sw = mu_sw - 1.96 * (sigma_sw / np.sqrt(9))\n",
    "up_bound_sw = mu_sw + 1.96 * (sigma_sw / np.sqrt(9))\n",
    "\n",
    "bounds_sw = [low_bound_sw, up_bound_sw]\n",
    "\n",
    "print(bounds_sw)\n",
    "\n",
    "# Large Wood\n",
    "\n",
    "low_bound_lw = mu_lw - 1.96 * (sigma_lw / np.sqrt(9))\n",
    "up_bound_lw = mu_lw + 1.96 * (sigma_lw / np.sqrt(9))\n",
    "\n",
    "bounds_lw = [low_bound_lw, up_bound_lw]\n",
    "\n",
    "print(bounds_lw)\n"
   ]
  },
  {
   "cell_type": "code",
   "execution_count": 117,
   "metadata": {},
   "outputs": [],
   "source": [
    "import csv\n",
    "import matplotlib.pyplot as plt\n",
    "import numpy as np\n",
    "from matplotlib.patches import Polygon\n",
    "\n",
    "from matplotlib import rc\n",
    "rc('font',**{'family':'sans-serif','sans-serif':['Helvetica']})\n",
    "## for Palatino and other serif fonts use:\n",
    "#rc('font',**{'family':'serif','serif':['Palatino']})\n",
    "rc('text', usetex=True)\n",
    "\n"
   ]
  },
  {
   "cell_type": "code",
   "execution_count": 165,
   "metadata": {},
   "outputs": [
    {
     "data": {
      "image/png": "[encoded data removed]",
      "text/plain": [
       "<Figure size 720x720 with 4 Axes>"
      ]
     },
     "metadata": {
      "needs_background": "light"
     },
     "output_type": "display_data"
    }
   ],
   "source": [
    "mean1 = 0.930382\n",
    "statdev1 = 0.023192\n",
    "variance1 = statdev1 ** 2\n",
    "\n",
    "mean2 = 0.971411\n",
    "statdev2 = 0.019483\n",
    "variance2 = statdev2 ** 2\n",
    "\n",
    "mean3 = 1.025301\n",
    "statdev3 = 0.003702\n",
    "variance3 = statdev3 ** 2\n",
    "\n",
    "mean4 = 0.990538\n",
    "statdev4 = 0.008913\n",
    "variance4 = statdev4 ** 2\n",
    "\n",
    "a1, b1 = 0.9152293799496063, 0.945533910109366\n",
    "a2, b2 = 0.958682149482617, 0.9841404179797244\n",
    "a3, b3 = 1.022882377740293, 1.0277199772060976\n",
    "a4, b4 = 0.9847151168298074, 0.996360791347584\n",
    "\n",
    "factor1 = 0.015\n",
    "factor2 = 0.015\n",
    "\n",
    "def funct(x, mu, n):\n",
    "    y = (1 / (n * np.sqrt(2 * np.pi))) * np.exp(-((x - mu) ** 2 / (2 * n ** 2)))\n",
    "    return y\n",
    "\n",
    "x1 = np.linspace(a1 - a1 * factor1, b1 + b1 * factor2, 10000)\n",
    "y1 = funct(x1, mean1, statdev1)\n",
    "\n",
    "x2 = np.linspace(a2 - a2 * factor1, b2 + b2 * factor2, 10000)\n",
    "y2 = funct(x2, mean2, statdev2)\n",
    "\n",
    "x3 = np.linspace(a3 - a3 * factor1 * 0.6, b3 + b3 * factor2 * 0.6, 10000)\n",
    "y3 = funct(x3, mean3, statdev3)\n",
    "\n",
    "x4 = np.linspace(a4 - a4 * factor1 * 1.4, b4 + b4 * factor2 * 1.4, 10000)\n",
    "y4 = funct(x4, mean4, statdev4)\n",
    "    \n",
    "fig, ((ax1, ax2), (ax3, ax4)) = plt.subplots(2, 2, figsize=(10, 10))\n",
    "\n",
    "\n",
    "ax1.plot(x1, y1, 'k')\n",
    "ax1.set_ylim(bottom=0)\n",
    "\n",
    "# Shaded Region (More Effective Method)\n",
    "xfill = np.linspace(a1 - a1 * factor1, b1 + b1 * factor2, 10000)\n",
    "ax1.fill_between(xfill, y1, 0, where=(x1 > a1) & (x1 <= b1), color='green', alpha='0.6')\n",
    "\n",
    "ax1.set_xticklabels(('%.3f' % mean1, '%.3f' % a1, '%.3f' % b1))\n",
    "ax1.set_xticks((mean1, a1, b1))\n",
    "\n",
    "ax1.axvline(x=mean1, color='k', linestyle='-.', linewidth=factor1, ymax=0.95)\n",
    "\n",
    "ax1.set_title(r'Small Rubber Kinetic Friction Coefficient')\n",
    "ax1.set_xlabel(r'Measurements')\n",
    "\n",
    "ax2.plot(x2, y2, 'k')\n",
    "ax2.set_ylim(bottom=0)\n",
    "\n",
    "# Shaded Region (More Effective Method)\n",
    "xfill = np.linspace(a2 - a2 * factor1, b2 + b2 * factor2, 10000)\n",
    "ax2.fill_between(xfill, y2, 0, where=(x2 > a2) & (x2 <= b2), color='yellow', alpha='0.6')\n",
    "\n",
    "ax2.set_xticklabels(('%.3f' % mean2, '%.3f' % a2, '%.3f' % b2))\n",
    "ax2.set_xticks((mean2, a2, b2))\n",
    "\n",
    "ax2.axvline(x=mean2, color='k', linestyle='-.', linewidth=factor1, ymax=0.95)\n",
    "\n",
    "ax2.set_title(r'Large Rubber Kinetic Friction Coefficient')\n",
    "ax2.set_xlabel(r'Measurements')\n",
    "\n",
    "ax3.plot(x3, y3, 'k')\n",
    "ax3.set_ylim(bottom=0)\n",
    "\n",
    "# Shaded Region (More Effective Method)\n",
    "xfill = np.linspace(a3 - a3 * factor1 * 0.6, b3 + b3 * factor2 * 0.6, 10000)\n",
    "ax3.fill_between(xfill, y3, 0, where=(x3 > a3) & (x3 <= b3), color='red', alpha='0.6')\n",
    "\n",
    "ax3.set_xticklabels(('%.3f' % mean3, '%.3f' % a3, '%.3f' % b3))\n",
    "ax3.set_xticks((mean3, a3, b3))\n",
    "\n",
    "ax3.axvline(x=mean3, color='k', linestyle='-.', linewidth=factor1, ymax=0.95)\n",
    "\n",
    "ax3.set_title(r'Small Wood Kinetic Friction Coefficient')\n",
    "ax3.set_xlabel(r'Measurements')\n",
    "\n",
    "ax4.plot(x4, y4, 'k')\n",
    "ax4.set_ylim(bottom=0)\n",
    "\n",
    "# Shaded Region (More Effective Method)\n",
    "xfill = np.linspace(a4 - a4 * factor1 * 1.4, b4 + b4 * factor2 * 1.4, 10000)\n",
    "ax4.fill_between(xfill, y4, 0, where=(x4 > a4) & (x4 <= b4), color='blue', alpha='0.6')\n",
    "\n",
    "ax4.set_xticklabels(('%.3f' % mean4, '%.3f' % a4, '%.3f' % b4))\n",
    "ax4.set_xticks((mean4, a4, b4))\n",
    "\n",
    "ax4.axvline(x=mean4, color='k', linestyle='-.', linewidth=factor1, ymax=0.95)\n",
    "\n",
    "ax4.set_title(r'Large Wood Kinetic Friction Coefficient')\n",
    "ax4.set_xlabel(r'Measurements')\n",
    "\n",
    "\n",
    "plt.rc('text', usetex=True)\n",
    "plt.rc('font', family='serif')\n",
    "\n",
    "\n",
    "plt.savefig('problem4.svg')\n",
    "\n",
    "plt.show()"
   ]
  },
  {
   "cell_type": "code",
   "execution_count": null,
   "metadata": {},
   "outputs": [],
   "source": []
  }
 ],
 "metadata": {
  "kernelspec": {
   "display_name": "Python 3",
   "language": "python",
   "name": "python3"
  },
  "language_info": {
   "codemirror_mode": {
    "name": "ipython",
    "version": 3
   },
   "file_extension": ".py",
   "mimetype": "text/x-python",
   "name": "python",
   "nbconvert_exporter": "python",
   "pygments_lexer": "ipython3",
   "version": "3.7.4"
  }
 },
 "nbformat": 4,
 "nbformat_minor": 2
}
