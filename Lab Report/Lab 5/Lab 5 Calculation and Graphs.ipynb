{
 "cells": [
  {
   "cell_type": "markdown",
   "metadata": {},
   "source": [
    "## Lab 5 Calculations and Graphs"
   ]
  },
  {
   "cell_type": "code",
   "execution_count": 1,
   "metadata": {},
   "outputs": [],
   "source": [
    "%matplotlib inline\n",
    "\n",
    "import matplotlib.pyplot as plt\n",
    "import numpy as np\n",
    "import pandas as pd\n",
    "import scipy as sp"
   ]
  },
  {
   "cell_type": "code",
   "execution_count": 2,
   "metadata": {},
   "outputs": [],
   "source": [
    "overall_data = []\n",
    "\n",
    "for i in range(8):\n",
    "    overall_data.append(pd.read_csv('collision_{}.csv'.format(i + 1)))"
   ]
  },
  {
   "cell_type": "markdown",
   "metadata": {},
   "source": [
    "### Constants and Trials"
   ]
  },
  {
   "cell_type": "code",
   "execution_count": 3,
   "metadata": {},
   "outputs": [],
   "source": [
    "puck_mass = 0.028\n",
    "mass_error = 0.0005\n",
    "\n",
    "trial1 = overall_data[0]\n",
    "trial2 = overall_data[1]\n",
    "trial3 = overall_data[2]\n",
    "trial4 = overall_data[3]\n",
    "trial5 = overall_data[4]\n",
    "trial6 = overall_data[5]\n",
    "trial7 = overall_data[6]\n",
    "trial8 = overall_data[7]"
   ]
  },
  {
   "cell_type": "markdown",
   "metadata": {},
   "source": [
    "## Trial 1"
   ]
  },
  {
   "cell_type": "code",
   "execution_count": 4,
   "metadata": {},
   "outputs": [
    {
     "name": "stderr",
     "output_type": "stream",
     "text": [
      "C:\\Users\\amari\\scoop\\apps\\python\\current\\lib\\site-packages\\pandas\\core\\series.py:679: RuntimeWarning: invalid value encountered in arccos\n",
      "  result = getattr(ufunc, method)(*inputs, **kwargs)\n"
     ]
    }
   ],
   "source": [
    "# Green Puck Data\n",
    "vel_vector_green = np.array([np.mean(trial1['vx-green']), np.mean(trial1['vy-green'])]) \n",
    "trial1['vr-green'] = np.sqrt(trial1['vx-green'] ** 2 + trial1['vy-green'] ** 2)\n",
    "trial1['angle-green'] = np.arctan(trial1['vy-green'] / trial1['vx-green'])\n",
    "trial1['ke-green-before'] = 0.5 * trial1['vr-green'][0:9] ** 2 * puck_mass\n",
    "trial1['ke-green-after'] = 0.5 * trial1['vr-green'][9:] ** 2 * puck_mass\n",
    "\n",
    "# Orange Puck Data\n",
    "vel_vector_orange = np.array([np.mean(trial1['vx-darkorange']), np.mean(trial1['vy-darkorange'])])\n",
    "trial1['vr-darkorange'] = np.sqrt(trial1['vx-darkorange'] ** 2 + trial1['vy-darkorange'] ** 2)\n",
    "trial1['angle-darkorange'] = np.arctan(trial1['vy-darkorange'] / trial1['vx-darkorange'])\n",
    "trial1['ke-darkorange-before'] = 0.5 * trial1['vr-darkorange'][0:9] ** 2 * puck_mass\n",
    "trial1['ke-darkorange-after'] = 0.5 * trial1['vr-darkorange'][9:] ** 2 * puck_mass\n",
    "\n",
    "# Kinetic Energy Data\n",
    "ke_before1 = np.mean(trial1['ke-darkorange-before']) + np.mean(trial1['ke-green-before'])\n",
    "ke_after1 = np.mean(trial1['ke-darkorange-after']) + np.mean(trial1['ke-darkorange-after'])\n",
    "\n",
    "\n",
    "dot_product1 = np.vdot(vel_vector_orange, vel_vector_green)\n",
    "# Trial 1 Angle\n",
    "trial1['angle-radians'] = np.arccos(dot_product1 / (trial1['vr-darkorange'] * trial1['vr-green']))\n",
    "trial1_angle = np.degrees(trial1['angle-radians'][1])\n",
    "\n",
    "# trial1['vx-green'].head(len(trial1))\n"
   ]
  },
  {
   "cell_type": "markdown",
   "metadata": {},
   "source": [
    "## Trial 2"
   ]
  },
  {
   "cell_type": "code",
   "execution_count": 5,
   "metadata": {},
   "outputs": [],
   "source": [
    "# Green Puck Data\n",
    "vel_vector_green = np.array([np.mean(trial2['vx-green']), np.mean(trial2['vy-green'])]) \n",
    "trial2['vr-green'] = np.sqrt(trial2['vx-green'] ** 2 + trial2['vy-green'] ** 2)\n",
    "trial2['angle-green'] = np.arctan(trial2['vy-green'] / trial2['vx-green'])\n",
    "trial2['ke-green-before'] = 0.5 * trial2['vr-green'][0:14] ** 2 * puck_mass\n",
    "trial2['ke-green-after'] = 0.5 * trial2['vr-green'][14:] ** 2 * puck_mass\n",
    "\n",
    "# Orange Puck Data\n",
    "vel_vector_orange = np.array([np.mean(trial2['vx-darkorange']), np.mean(trial2['vy-darkorange'])])\n",
    "trial2['vr-darkorange'] = np.sqrt(trial2['vx-darkorange'] ** 2 + trial2['vy-darkorange'] ** 2)\n",
    "trial2['angle-darkorange'] = np.arctan(trial2['vy-darkorange'] / trial2['vx-darkorange'])\n",
    "trial2['ke-darkorange-before'] = 0.5 * trial2['vr-darkorange'][0:14] ** 2 * puck_mass\n",
    "trial2['ke-darkorange-after'] = 0.5 * trial2['vr-darkorange'][14:] ** 2 * puck_mass\n",
    "\n",
    "# Kinetic Energy Data\n",
    "ke_before2 = np.mean(trial2['ke-darkorange-before']) + np.mean(trial2['ke-green-before'])\n",
    "ke_after2 = np.mean(trial2['ke-darkorange-after']) + np.mean(trial2['ke-darkorange-after'])\n",
    "\n",
    "\n",
    "dot_product1 = np.vdot(vel_vector_orange, vel_vector_green)\n",
    "# Trial 1 Angle\n",
    "trial2['angle-radians'] = np.arccos(dot_product1 / (trial2['vr-darkorange'] * trial2['vr-green']))\n",
    "trial2_angle = np.degrees(trial2['angle-radians'][1])\n",
    "\n",
    "# trial2['vx-green'].head(len(trial2))"
   ]
  },
  {
   "cell_type": "markdown",
   "metadata": {},
   "source": [
    "## Trial 3"
   ]
  },
  {
   "cell_type": "code",
   "execution_count": 6,
   "metadata": {},
   "outputs": [],
   "source": [
    "# Green Puck Data\n",
    "vel_vector_green = np.array([np.mean(trial3['vx-green']), np.mean(trial3['vy-green'])]) \n",
    "trial3['vr-green'] = np.sqrt(trial3['vx-green'] ** 2 + trial3['vy-green'] ** 2)\n",
    "trial3['angle-green'] = np.arctan(trial3['vy-green'] / trial3['vx-green'])\n",
    "trial3['ke-green-before'] = 0.5 * trial3['vr-green'][0:14] ** 2 * puck_mass\n",
    "trial3['ke-green-after'] = 0.5 * trial3['vr-green'][14:] ** 2 * puck_mass\n",
    "\n",
    "# Orange Puck Data\n",
    "vel_vector_orange = np.array([np.mean(trial3['vx-darkorange']), np.mean(trial3['vy-darkorange'])])\n",
    "trial3['vr-darkorange'] = np.sqrt(trial3['vx-darkorange'] ** 2 + trial3['vy-darkorange'] ** 2)\n",
    "trial3['angle-darkorange'] = np.arctan(trial3['vy-darkorange'] / trial3['vx-darkorange'])\n",
    "trial3['ke-darkorange-before'] = 0.5 * trial3['vr-darkorange'][0:14] ** 2 * puck_mass\n",
    "trial3['ke-darkorange-after'] = 0.5 * trial3['vr-darkorange'][14:] ** 2 * puck_mass\n",
    "\n",
    "# Kinetic Energy Data\n",
    "ke_before3 = np.mean(trial3['ke-darkorange-before']) + np.mean(trial3['ke-green-before'])\n",
    "ke_after3 = np.mean(trial3['ke-darkorange-after']) + np.mean(trial3['ke-darkorange-after'])\n",
    "\n",
    "\n",
    "dot_product1 = np.vdot(vel_vector_orange, vel_vector_green)\n",
    "# Trial 1 Angle\n",
    "trial3['angle-radians'] = np.arccos(dot_product1 / (trial3['vr-darkorange'] * trial3['vr-green']))\n",
    "trial3_angle = np.degrees(trial3['angle-radians'][1])\n",
    "\n",
    "\n",
    "# trial3['vx-green'].head(len(trial3))"
   ]
  },
  {
   "cell_type": "markdown",
   "metadata": {},
   "source": [
    "## Trial 4"
   ]
  },
  {
   "cell_type": "code",
   "execution_count": 7,
   "metadata": {},
   "outputs": [],
   "source": [
    "# Green Puck Data\n",
    "vel_vector_green = np.array([np.mean(trial4['vx-green']), np.mean(trial4['vy-green'])]) \n",
    "trial4['vr-green'] = np.sqrt(trial4['vx-green'] ** 2 + trial4['vy-green'] ** 2)\n",
    "trial4['angle-green'] = np.arctan(trial4['vy-green'] / trial4['vx-green'])\n",
    "trial4['ke-green-before'] = 0.5 * trial4['vr-green'][0:14] ** 2 * puck_mass\n",
    "trial4['ke-green-after'] = 0.5 * trial4['vr-green'][14:] ** 2 * puck_mass\n",
    "\n",
    "# Orange Puck Data\n",
    "vel_vector_orange = np.array([np.mean(trial4['vx-darkorange']), np.mean(trial4['vy-darkorange'])])\n",
    "trial4['vr-darkorange'] = np.sqrt(trial4['vx-darkorange'] ** 2 + trial4['vy-darkorange'] ** 2)\n",
    "trial4['angle-darkorange'] = np.arctan(trial4['vy-darkorange'] / trial4['vx-darkorange'])\n",
    "trial4['ke-darkorange-before'] = 0.5 * trial4['vr-darkorange'][0:14] ** 2 * puck_mass\n",
    "trial4['ke-darkorange-after'] = 0.5 * trial4['vr-darkorange'][14:] ** 2 * puck_mass\n",
    "\n",
    "# Kinetic Energy Data\n",
    "ke_before4 = np.mean(trial4['ke-darkorange-before']) + np.mean(trial4['ke-green-before'])\n",
    "ke_after4 = np.mean(trial4['ke-darkorange-after']) + np.mean(trial4['ke-darkorange-after'])\n",
    "\n",
    "\n",
    "dot_product1 = np.vdot(vel_vector_orange, vel_vector_green)\n",
    "# Trial 1 Angle\n",
    "trial4['angle-radians'] = np.arccos(dot_product1 / (trial4['vr-darkorange'] * trial4['vr-green']))\n",
    "trial4_angle = np.degrees(trial4['angle-radians'][1])\n",
    "\n",
    "# trial4['vx-green'].head(len(trial4))"
   ]
  },
  {
   "cell_type": "markdown",
   "metadata": {},
   "source": [
    "## Trial 5"
   ]
  },
  {
   "cell_type": "code",
   "execution_count": 8,
   "metadata": {},
   "outputs": [],
   "source": [
    "# Green Puck Data\n",
    "vel_vector_green = np.array([np.mean(trial5['vx-green']), np.mean(trial5['vy-green'])]) \n",
    "trial5['vr-green'] = np.sqrt(trial5['vx-green'] ** 2 + trial5['vy-green'] ** 2)\n",
    "trial5['angle-green'] = np.arctan(trial5['vy-green'] / trial5['vx-green'])\n",
    "trial5['ke-green-before'] = 0.5 * trial5['vr-green'][0:14] ** 2 * puck_mass\n",
    "trial5['ke-green-after'] = 0.5 * trial5['vr-green'][14:] ** 2 * puck_mass\n",
    "\n",
    "# Orange Puck Data\n",
    "vel_vector_orange = np.array([np.mean(trial5['vx-darkorange']), np.mean(trial5['vy-darkorange'])])\n",
    "trial5['vr-darkorange'] = np.sqrt(trial5['vx-darkorange'] ** 2 + trial5['vy-darkorange'] ** 2)\n",
    "trial5['angle-darkorange'] = np.arctan(trial5['vy-darkorange'] / trial5['vx-darkorange'])\n",
    "trial5['ke-darkorange-before'] = 0.5 * trial5['vr-darkorange'][0:14] ** 2 * puck_mass\n",
    "trial5['ke-darkorange-after'] = 0.5 * trial5['vr-darkorange'][14:] ** 2 * puck_mass\n",
    "\n",
    "# Kinetic Energy Data\n",
    "ke_before5 = np.mean(trial5['ke-darkorange-before']) + np.mean(trial5['ke-green-before'])\n",
    "ke_after5 = np.mean(trial5['ke-darkorange-after']) + np.mean(trial5['ke-darkorange-after'])\n",
    "\n",
    "dot_product1 = np.vdot(vel_vector_orange, vel_vector_green)\n",
    "# Trial 1 Angle\n",
    "trial5['angle-radians'] = np.arccos(dot_product1 / (trial5['vr-darkorange'] * trial5['vr-green']))\n",
    "trial5_angle = np.degrees(trial5['angle-radians'][1])\n",
    "\n",
    "# trial5['vx-green'].head(len(trial5))"
   ]
  },
  {
   "cell_type": "markdown",
   "metadata": {},
   "source": [
    "## Trial 6"
   ]
  },
  {
   "cell_type": "code",
   "execution_count": 9,
   "metadata": {},
   "outputs": [],
   "source": [
    "# Green Puck Data\n",
    "vel_vector_green = np.array([np.mean(trial6['vx-green']), np.mean(trial6['vy-green'])]) \n",
    "trial6['vr-green'] = np.sqrt(trial6['vx-green'] ** 2 + trial6['vy-green'] ** 2)\n",
    "trial6['angle-green'] = np.arctan(trial6['vy-green'] / trial6['vx-green'])\n",
    "trial6['ke-green-before'] = 0.5 * trial6['vr-green'][0:14] ** 2 * puck_mass\n",
    "trial6['ke-green-after'] = 0.5 * trial6['vr-green'][14:] ** 2 * puck_mass\n",
    "\n",
    "# Orange Puck Data\n",
    "vel_vector_orange = np.array([np.mean(trial6['vx-darkorange']), np.mean(trial6['vy-darkorange'])])\n",
    "trial6['vr-darkorange'] = np.sqrt(trial6['vx-darkorange'] ** 2 + trial6['vy-darkorange'] ** 2)\n",
    "trial6['angle-darkorange'] = np.arctan(trial6['vy-darkorange'] / trial6['vx-darkorange'])\n",
    "trial6['ke-darkorange-before'] = 0.5 * trial6['vr-darkorange'][0:14] ** 2 * puck_mass\n",
    "trial6['ke-darkorange-after'] = 0.5 * trial6['vr-darkorange'][14:] ** 2 * puck_mass\n",
    "\n",
    "# Kinetic Energy Data\n",
    "ke_before6 = np.mean(trial6['ke-darkorange-before']) + np.mean(trial6['ke-green-before'])\n",
    "ke_after6 = np.mean(trial6['ke-darkorange-after']) + np.mean(trial6['ke-darkorange-after'])\n",
    "\n",
    "\n",
    "dot_product1 = np.vdot(vel_vector_orange, vel_vector_green)\n",
    "# Trial 1 Angle\n",
    "trial6['angle-radians'] = np.arccos(dot_product1 / (trial6['vr-darkorange'] * trial6['vr-green']))\n",
    "trial6_angle = np.degrees(trial6['angle-radians'][1])\n",
    "\n",
    "\n",
    "# trial6['vx-green'].head(len(trial6))"
   ]
  },
  {
   "cell_type": "markdown",
   "metadata": {},
   "source": [
    "## Trial 7"
   ]
  },
  {
   "cell_type": "code",
   "execution_count": 10,
   "metadata": {},
   "outputs": [],
   "source": [
    "# Green Puck Data\n",
    "vel_vector_green = np.array([np.mean(trial7['vx-green']), np.mean(trial7['vy-green'])]) \n",
    "trial7['vr-green'] = np.sqrt(trial7['vx-green'] ** 2 + trial7['vy-green'] ** 2)\n",
    "trial7['angle-green'] = np.arctan(trial7['vy-green'] / trial7['vx-green'])\n",
    "trial7['ke-green-before'] = 0.5 * trial7['vr-green'][0:14] ** 2 * puck_mass\n",
    "trial7['ke-green-after'] = 0.5 * trial7['vr-green'][14:] ** 2 * puck_mass\n",
    "\n",
    "# Orange Puck Data\n",
    "vel_vector_orange = np.array([np.mean(trial7['vx-darkorange']), np.mean(trial7['vy-darkorange'])])\n",
    "trial7['vr-darkorange'] = np.sqrt(trial7['vx-darkorange'] ** 2 + trial7['vy-darkorange'] ** 2)\n",
    "trial7['angle-darkorange'] = np.arctan(trial7['vy-darkorange'] / trial7['vx-darkorange'])\n",
    "trial7['ke-darkorange-before'] = 0.5 * trial7['vr-darkorange'][0:14] ** 2 * puck_mass\n",
    "trial7['ke-darkorange-after'] = 0.5 * trial7['vr-darkorange'][14:] ** 2 * puck_mass\n",
    "\n",
    "# Kinetic Energy Data\n",
    "ke_before7 = np.mean(trial7['ke-darkorange-before']) + np.mean(trial7['ke-green-before'])\n",
    "ke_after7 = np.mean(trial7['ke-darkorange-after']) + np.mean(trial7['ke-darkorange-after'])\n",
    "\n",
    "\n",
    "dot_product1 = np.vdot(vel_vector_orange, vel_vector_green)\n",
    "# Trial 1 Angle\n",
    "trial7['angle-radians'] = np.arccos(dot_product1 / (trial7['vr-darkorange'] * trial7['vr-green']))\n",
    "trial7_angle = np.degrees(trial7['angle-radians'][1])\n",
    "\n",
    "# trial7['vx-green'].head(len(trial7))"
   ]
  },
  {
   "cell_type": "markdown",
   "metadata": {},
   "source": [
    "## Trial 8"
   ]
  },
  {
   "cell_type": "code",
   "execution_count": 11,
   "metadata": {},
   "outputs": [],
   "source": [
    "# Green Puck Data\n",
    "vel_vector_green = np.array([np.mean(trial8['vx-green']), np.mean(trial8['vy-green'])]) \n",
    "trial8['vr-green'] = np.sqrt(trial8['vx-green'] ** 2 + trial8['vy-green'] ** 2)\n",
    "trial8['angle-green'] = np.arctan(trial8['vy-green'] / trial8['vx-green'])\n",
    "trial8['ke-green-before'] = 0.5 * trial8['vr-green'][0:10] ** 2 * puck_mass\n",
    "trial8['ke-green-after'] = 0.5 * trial8['vr-green'][10:] ** 2 * puck_mass\n",
    "\n",
    "# Orange Puck Data\n",
    "vel_vector_orange = np.array([np.mean(trial8['vx-darkorange']), np.mean(trial8['vy-darkorange'])])\n",
    "trial8['vr-darkorange'] = np.sqrt(trial8['vx-darkorange'] ** 2 + trial8['vy-darkorange'] ** 2)\n",
    "trial8['angle-darkorange'] = np.arctan(trial8['vy-darkorange'] / trial8['vx-darkorange'])\n",
    "trial8['ke-darkorange-before'] = 0.5 * trial8['vr-darkorange'][0:10] ** 2 * puck_mass\n",
    "trial8['ke-darkorange-after'] = 0.5 * trial8['vr-darkorange'][10:] ** 2 * puck_mass\n",
    "\n",
    "# Kinetic Energy Data\n",
    "ke_before8 = np.mean(trial8['ke-darkorange-before']) + np.mean(trial8['ke-green-before'])\n",
    "ke_after8 = np.mean(trial8['ke-darkorange-after']) + np.mean(trial8['ke-darkorange-after'])\n",
    "\n",
    "dot_product1 = np.vdot(vel_vector_orange, vel_vector_green)\n",
    "# Trial 1 Angle\n",
    "trial8['angle-radians'] = np.arccos(dot_product1 / (trial8['vr-darkorange'] * trial8['vr-green']))\n",
    "trial8_angle = np.degrees(trial8['angle-radians'][1])\n",
    "\n",
    "# trial8['vx-green'].head(len(trial8))"
   ]
  },
  {
   "cell_type": "markdown",
   "metadata": {},
   "source": [
    "## Error Calculations"
   ]
  },
  {
   "cell_type": "code",
   "execution_count": 12,
   "metadata": {},
   "outputs": [],
   "source": [
    "  # Transfering Data to List for Loop\n",
    "overall_data[0] = trial1\n",
    "overall_data[1] = trial2\n",
    "overall_data[2] = trial3\n",
    "overall_data[3] = trial4\n",
    "overall_data[4] = trial5\n",
    "overall_data[5] = trial6\n",
    "overall_data[6] = trial7\n",
    "overall_data[7] = trial8\n",
    "\n",
    "xvel_error_orange = np.array([])\n",
    "xvel_error_green = np.array([])\n",
    "yvel_error_orange = np.array([])\n",
    "yvel_error_green = np.array([])\n",
    "\n",
    "rvel_error_orange = np.array([])\n",
    "rvel_error_green = np.array([])\n",
    "\n",
    "ke_error_o = np.array([])\n",
    "ke_error_g = np.array([])\n",
    "\n",
    "for i in range(8):\n",
    "    xvel_error_orange = np.append(xvel_error_orange, overall_data[i]['vx-darkorange'].std())\n",
    "    yvel_error_orange = np.append(yvel_error_orange, overall_data[i]['vy-darkorange'].std())\n",
    "    xvel_error_green = np.append(xvel_error_green, overall_data[i]['vx-green'].std())\n",
    "    yvel_error_green = np.append(yvel_error_green, overall_data[i]['vy-green'].std())\n",
    "    \n",
    "    rvel_error_orange = np.append(rvel_error_orange, \n",
    "              np.sqrt((xvel_error_orange[i] ** 2 * overall_data[i]['vx-darkorange'].mean() ** 2 + yvel_error_orange[i] ** 2 * overall_data[i]['vy-darkorange'].mean() ** 2) \n",
    "                      / (overall_data[i]['vx-darkorange'].mean() ** 2 + overall_data[i]['vy-darkorange'].mean() ** 2)))\n",
    "    \n",
    "    rvel_error_green = np.append(rvel_error_green, \n",
    "              np.sqrt((xvel_error_green[i] ** 2 * overall_data[i]['vx-green'].mean() ** 2 + yvel_error_green[i] ** 2 * overall_data[i]['vy-green'].mean() ** 2) \n",
    "                      / (overall_data[i]['vx-green'].mean() ** 2 + overall_data[i]['vy-green'].mean() ** 2)))\n",
    "    \n",
    "    ke_error_o = np.append(ke_error_o, 0.5 * np.sqrt(overall_data[i]['vr-darkorange'].mean() ** 2 * (4 * puck_mass ** 2 * rvel_error_orange[i] ** 2 + mass_error ** 2 * overall_data[i]['vr-darkorange'].mean())))\n",
    "\n",
    "    ke_error_g = np.append(ke_error_g, 0.5 * np.sqrt(overall_data[i]['vr-green'].mean() ** 2 * (4 * puck_mass ** 2 * rvel_error_green[i] ** 2 + mass_error ** 2 * overall_data[i]['vr-green'].mean())))\n",
    "    \n",
    "# print(ke_error_o)\n",
    "# print(ke_error_g)\n",
    "\n",
    "tot_ke_error = np.sqrt(ke_error_o ** 2 + ke_error_g ** 2)\n",
    "# print(tot_ke_error)"
   ]
  },
  {
   "cell_type": "markdown",
   "metadata": {},
   "source": [
    "## Graph"
   ]
  },
  {
   "cell_type": "code",
   "execution_count": 15,
   "metadata": {},
   "outputs": [
    {
     "data": {
      "image/png": "[encoded data removed]",
      "text/plain": [
       "<Figure size 540x540 with 1 Axes>"
      ]
     },
     "metadata": {
      "needs_background": "light"
     },
     "output_type": "display_data"
    }
   ],
   "source": [
    "# Data Lists\n",
    "ke_before = [ke_before1, ke_before2, ke_before3, ke_before4, ke_before5, ke_before6, ke_before7, ke_before8]\n",
    "ke_after = [ke_after1, ke_after2, ke_after3, ke_after4, ke_after5, ke_after6, ke_after7, ke_after8]\n",
    "angles = [37.61, 48.74, 60.49, 87.78, 105.04, 129, 154.56, 179.1] # Provided by James - Used for Consistancy\n",
    "# angles = [trial1_angle, trial2_angle, trial3_angle, trial4_angle, trial5_angle, trial6_angle, trial7_angle, trial8_angle]\n",
    "# Plot of KE vs Angle\n",
    "fig, ax = plt.subplots(1, 1, figsize=(7.5, 7.5))\n",
    "\n",
    "x = angles\n",
    "y1 = ke_before\n",
    "y2 = ke_after\n",
    "\n",
    "y_error = tot_ke_error\n",
    "\n",
    "# Error\n",
    "ax.errorbar(x, y1, yerr=y_error, fmt='.r', capsize=5, elinewidth=1, label='inital error')\n",
    "ax.errorbar(x, y2, yerr=y_error, fmt='.g', capsize=5, elinewidth=1, label='final error')\n",
    "\n",
    "# Plot\n",
    "ax.plot(x, y1, 'ro', label='initial')\n",
    "ax.plot(x, y2, 'g^', label='final')\n",
    "ax.set_title('Kinetic Energy Before and After Vs. Collision Angle')\n",
    "ax.set_xlabel('Angle (Degrees)')\n",
    "ax.set_ylabel('Kinetic Energy (Joules)')\n",
    "ax.legend(loc='upper left')\n",
    "\n",
    "# Save Figure\n",
    "plt.savefig('kinetic_angle.svg')"
   ]
  },
  {
   "cell_type": "markdown",
   "metadata": {},
   "source": [
    "## Analysis of Kinetic Energy Before and After Collision\n",
    "\n",
    "Based on the data points on the plot, it appears that the change in kinetic energy wasn't constant throughout all angles of collision, nor did there appear to be any visiual trend. In some trials, the kinetic energy before the collision and the kinetic energy afterwards appeared unchanged, suggesting that the collision was ellastic; however the trials that showed a large difference between the kinetic energy before and after the collision indicates an inellastic interaction where energy was loss. Curiously enough, some readings also indicated instances where the kinetic energy increased after the collision which should be impossible unless an external force acted on the pucks as they moved. Fortantely, these descrepances were explainable due to the random errors that occured during the experiment, data analysis, and calculations. When uncertaintly is taken into account, nearly all of the collisions reflect that kinetic energy remained the same, thus nearly all the collisions were elastic. "
   ]
  },
  {
   "cell_type": "markdown",
   "metadata": {},
   "source": [
    "# Jame's Code"
   ]
  },
  {
   "cell_type": "code",
   "execution_count": 23,
   "metadata": {},
   "outputs": [
    {
     "data": {
      "image/png": "[encoded data removed]",
      "text/plain": [
       "<Figure size 864x432 with 2 Axes>"
      ]
     },
     "metadata": {
      "needs_background": "light"
     },
     "output_type": "display_data"
    },
    {
     "data": {
      "image/png": "[encoded data removed]",
      "text/plain": [
       "<Figure size 864x432 with 2 Axes>"
      ]
     },
     "metadata": {
      "needs_background": "light"
     },
     "output_type": "display_data"
    }
   ],
   "source": [
    "import matplotlib.pyplot as plt\n",
    "\n",
    "angle = [37.61, 48.74, 60.49, 87.78, 105.04, 129, 154.56, 179.1]  # 8 items\n",
    "m = 0.028  # kg\n",
    "\n",
    "xi1 = -34.9 - 45.7\n",
    "xi2 = -27 - 41.9\n",
    "xi3 = -30.6 - 43.4\n",
    "xi4 = -31.5 - 33.3\n",
    "xi5 = -33.4 - 22.2\n",
    "xi6 = -38.3 - 0.912\n",
    "xi7 = -24.7 + 13.9\n",
    "xi8 = -23.1 + 44.3\n",
    "\n",
    "xf1 = -50.5 - 28.8\n",
    "xf2 = -37.2 - 28.9\n",
    "xf3 = -48.7 - 24.8\n",
    "xf4 = -48.2 - 15.3\n",
    "xf5 = -13.5 - 39.3\n",
    "xf6 = -21.7 - 16.2\n",
    "xf7 = 29.1 - 37.4\n",
    "xf8 = 40.4 - 17.1\n",
    "\n",
    "yi1 = -43 - 21.1\n",
    "yi2 = -29.3 - 2.3\n",
    "yi3 = -29.8 - 20\n",
    "yi4 = -28.8 + 33.7\n",
    "yi5 = -31.6 + 42.6\n",
    "yi6 = -32.4 + 42.46\n",
    "yi7 = -25.2 + 40.4\n",
    "yi8 = -24.4 + 46.1\n",
    "\n",
    "yf1 = -27.9 - 36.5\n",
    "yf2 = 2.6 - 28.2\n",
    "yf3 = 17.5 - 28\n",
    "yf4 = 27.5 - 21.6\n",
    "yf5 = 36 - 27.6\n",
    "yf6 = 38 - 29.53\n",
    "yf7 = 8.8 + 7.2\n",
    "yf8 = 47.3 - 26.7\n",
    "\n",
    "# momentum ratios\n",
    "xir1 = xi1/(xi1 + yi1)\n",
    "xir2 = xi2/(xi2 + yi2)\n",
    "xir3 = xi3/(xi3 + yi3)\n",
    "xir4 = xi4/(xi4 + yi4)\n",
    "xir5 = xi5/(xi5 + yi5)\n",
    "xir6 = xi6/(xi6 + yi6)\n",
    "xir7 = xi7/(xi7 + yi7)\n",
    "xir8 = xi8/(xi8 + yi8)\n",
    "\n",
    "xfr1 = xf1/(xf1 + yf1)\n",
    "xfr2 = xf2/(xf2 + yf2)\n",
    "xfr3 = xf3/(xf3 + yf3)\n",
    "xfr4 = xf4/(xf4 + yf4)\n",
    "xfr5 = xf5/(xf5 + yf5)\n",
    "xfr6 = xf6/(xf6 + yf6)\n",
    "xfr7 = xf7/(xf7 + yf7)\n",
    "xfr8 = xf8/(xf8 + yf8)\n",
    "\n",
    "yir1 = yi1/(xi1 + yi1)\n",
    "yir2 = yi2/(xi2 + yi2)\n",
    "yir3 = yi3/(xi3 + yi3)\n",
    "yir4 = yi4/(xi4 + yi4)\n",
    "yir5 = yi5/(xi5 + yi5)\n",
    "yir6 = yi6/(xi6 + yi6)\n",
    "yir7 = yi7/(xi7 + yi7)\n",
    "yir8 = yi8/(xi8 + yi8)\n",
    "\n",
    "yfr1 = yf1/(xf1 + yf1)\n",
    "yfr2 = yf2/(xf2 + yf2)\n",
    "yfr3 = yf3/(xf3 + yf3)\n",
    "yfr4 = yf4/(xf4 + yf4)\n",
    "yfr5 = yf5/(xf5 + yf5)\n",
    "yfr6 = yf6/(xf6 + yf6)\n",
    "yfr7 = yf7/(xf7 + yf7)\n",
    "yfr8 = yf8/(xf8 + yf8)\n",
    "\n",
    "xi_mom = [xi1, xi2, xi3, xi4, xi5, xi6, xi7, xi8]\n",
    "xf_mom = [xf1, xf2, xf3, xf4, xf5, xf6, xf7, xf8]\n",
    "yi_mom = [yi1, yi2, yi3, yi4, yi5, yi6, yi7, yi8]\n",
    "yf_mom = [yf1, yf2, yf3, yf4, yf5, yf6, yf7, yf8]\n",
    "\n",
    "xir_mom = [xir1, xir2, xir3, xir4, xir5, xir6, xir7, xir8]\n",
    "xfr_mom = [xfr1, xfr2, xfr3, xfr4, xfr5, xfr6, xfr7, xfr8]\n",
    "yir_mom = [yir1, yir2, yir3, yir4, yir5, yir6, yir7, yir8]\n",
    "yfr_mom = [yfr1, yfr2, yfr3, yfr4, yfr5, yfr6, yfr7, yfr8]\n",
    "\n",
    "xi_mom = [i * (m * 0.01) for i in xi_mom]\n",
    "xf_mom = [i * (m * 0.01) for i in xf_mom]\n",
    "yi_mom = [i * (m * 0.01) for i in yi_mom]\n",
    "yf_mom = [i * (m * 0.01) for i in yf_mom]\n",
    "\n",
    "fig, (ax1, ax3) = plt.subplots(1, 2, figsize=(12, 6))\n",
    "\n",
    "\n",
    "xr_mom = ax3.plot(angle, xir_mom, 'ro', label = \"initial\")\n",
    "xr_mom2 = ax3.plot(angle, xfr_mom, 'g^', label = \"final\")\n",
    "ax3.set_title(\"Horizontal Momentum Ratio vs. Collision Angle\")\n",
    "ax3.set_ylabel(\"Px/(Px + Py)\")\n",
    "ax3.set_xlabel(\"Angle (degrees)\")\n",
    "ax3.legend(loc = \"upper left\")\n",
    "\n",
    "x_mom = ax1.plot(angle, xi_mom, 'ro', label = \"initial\")\n",
    "x_mom2 = ax1.plot(angle, xf_mom, 'g^', label = \"final\")\n",
    "ax1.set_title(\"Horizontal Momentum vs. Collision Angle\")\n",
    "ax1.set_ylabel(\"Horizontal momentum (kgm/s)\")  # need units\n",
    "ax1.set_xlabel(\"Angle (degrees)\")\n",
    "ax1.legend(loc = \"upper left\")\n",
    "\n",
    "plt.savefig('james_h.svg')\n",
    "\n",
    "fig, (ax2, ax4) = plt.subplots(1, 2, figsize=(12, 6))\n",
    "\n",
    "yr_mom = ax4.plot(angle, yir_mom, 'ro', label = \"initial\")\n",
    "yr_mom2 = ax4.plot(angle, yfr_mom, 'g^', label = \"final\")\n",
    "ax4.set_title(\"Vertical Momentum Ratio vs. Collision Angle\")\n",
    "ax4.set_ylabel(\"Py/(Px + Py\")\n",
    "ax4.set_xlabel(\"Angle (degrees)\")\n",
    "ax4.legend(loc = \"upper left\")\n",
    "\n",
    "y_mom = ax2.plot(angle, yi_mom, 'ro', label = \"initial\")\n",
    "y_mom2 = ax2.plot(angle, yf_mom, 'g^', label = \"final\")\n",
    "ax2.set_title(\"Vertical Momentum vs. Collision Angle\")\n",
    "ax2.set_ylabel(\"Vertical momentum (kgm/s)\")\n",
    "ax2.set_xlabel(\"Angle (degrees)\")\n",
    "ax2.legend(loc = \"upper left\")\n",
    "\n",
    "plt.savefig('james_v.svg')\n",
    "\n",
    "\n"
   ]
  },
  {
   "cell_type": "code",
   "execution_count": null,
   "metadata": {},
   "outputs": [],
   "source": []
  }
 ],
 "metadata": {
  "kernelspec": {
   "display_name": "Python 3",
   "language": "python",
   "name": "python3"
  },
  "language_info": {
   "codemirror_mode": {
    "name": "ipython",
    "version": 3
   },
   "file_extension": ".py",
   "mimetype": "text/x-python",
   "name": "python",
   "nbconvert_exporter": "python",
   "pygments_lexer": "ipython3",
   "version": "3.7.4"
  }
 },
 "nbformat": 4,
 "nbformat_minor": 2
}
