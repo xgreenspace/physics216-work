{
 "cells": [
  {
   "cell_type": "code",
   "execution_count": 1,
   "metadata": {},
   "outputs": [],
   "source": [
    "from scipy.stats import norm\n",
    "import numpy as np\n",
    "from sympy import *\n",
    "from IPython.display import *\n",
    "import ipywidgets as widgets\n",
    "import math as m\n",
    "\n",
    "def output(input):\n",
    "    return display(Latex(input))\n",
    "\n",
    "def equ(input):\n",
    "    equation = ' $' + latex(input) + '$ '\n",
    "    return equation\n"
   ]
  },
  {
   "cell_type": "markdown",
   "metadata": {},
   "source": [
    "# Z-Value Calculator"
   ]
  },
  {
   "cell_type": "code",
   "execution_count": 2,
   "metadata": {},
   "outputs": [
    {
     "data": {
      "text/latex": [
       "Set $\\overline{x}$:"
      ],
      "text/plain": [
       "<IPython.core.display.Latex object>"
      ]
     },
     "metadata": {},
     "output_type": "display_data"
    },
    {
     "data": {
      "application/vnd.jupyter.widget-view+json": {
       "model_id": "6ba020f641e94cd5bc2911e1ee4e1c91",
       "version_major": 2,
       "version_minor": 0
      },
      "text/plain": [
       "FloatText(value=0.0)"
      ]
     },
     "metadata": {},
     "output_type": "display_data"
    },
    {
     "data": {
      "text/latex": [
       "Set $\\mu$ or the average:"
      ],
      "text/plain": [
       "<IPython.core.display.Latex object>"
      ]
     },
     "metadata": {},
     "output_type": "display_data"
    },
    {
     "data": {
      "application/vnd.jupyter.widget-view+json": {
       "model_id": "9fdb5bbc6eb5482a8645ec3a8afd6238",
       "version_major": 2,
       "version_minor": 0
      },
      "text/plain": [
       "FloatText(value=0.0)"
      ]
     },
     "metadata": {},
     "output_type": "display_data"
    },
    {
     "data": {
      "text/latex": [
       "Set $\\sigma$ or the standard deviation:"
      ],
      "text/plain": [
       "<IPython.core.display.Latex object>"
      ]
     },
     "metadata": {},
     "output_type": "display_data"
    },
    {
     "data": {
      "application/vnd.jupyter.widget-view+json": {
       "model_id": "3776dbfdcb0c41cc90779c504b17e592",
       "version_major": 2,
       "version_minor": 0
      },
      "text/plain": [
       "FloatText(value=1.0)"
      ]
     },
     "metadata": {},
     "output_type": "display_data"
    }
   ],
   "source": [
    "x = widgets.FloatText()\n",
    "mu = widgets.FloatText()\n",
    "sigma = widgets.FloatText(value=1)\n",
    "\n",
    "output('Set $\\overline{x}$:')\n",
    "display(x)\n",
    "\n",
    "output('Set $\\mu$ or the average:')\n",
    "display(mu)\n",
    "\n",
    "output('Set $\\sigma$ or the standard deviation:')\n",
    "display(sigma)"
   ]
  },
  {
   "cell_type": "markdown",
   "metadata": {},
   "source": [
    "## Calculate Z, P, and $\\alpha$"
   ]
  },
  {
   "cell_type": "code",
   "execution_count": 3,
   "metadata": {},
   "outputs": [
    {
     "data": {
      "text/latex": [
       "The $z$ value is $0.0$ "
      ],
      "text/plain": [
       "<IPython.core.display.Latex object>"
      ]
     },
     "metadata": {},
     "output_type": "display_data"
    },
    {
     "data": {
      "text/latex": [
       "The confidence value is $0.5$ or $50.0$ %"
      ],
      "text/plain": [
       "<IPython.core.display.Latex object>"
      ]
     },
     "metadata": {},
     "output_type": "display_data"
    },
    {
     "data": {
      "text/latex": [
       "The significance value is $0.5$ or $50.0$ %"
      ],
      "text/plain": [
       "<IPython.core.display.Latex object>"
      ]
     },
     "metadata": {},
     "output_type": "display_data"
    }
   ],
   "source": [
    "z = (x.value - mu.value) / sigma.value\n",
    "output('The $z$ value is' + equ(z))\n",
    "\n",
    "p = norm.cdf(z)\n",
    "output('The confidence value is' + equ(p) + 'or' + equ(p * 100) + '%')\n",
    "\n",
    "alpha = 1 - p\n",
    "output('The significance value is' + equ(alpha) + 'or' + equ(alpha * 100) + '%')"
   ]
  },
  {
   "cell_type": "markdown",
   "metadata": {},
   "source": [
    "## Calculate P given Z value or Visa Versa"
   ]
  },
  {
   "cell_type": "code",
   "execution_count": 4,
   "metadata": {},
   "outputs": [
    {
     "data": {
      "text/latex": [
       "Enter the $z$-value:"
      ],
      "text/plain": [
       "<IPython.core.display.Latex object>"
      ]
     },
     "metadata": {},
     "output_type": "display_data"
    },
    {
     "data": {
      "application/vnd.jupyter.widget-view+json": {
       "model_id": "e426e37cf1e748279a6f7f20067d58c6",
       "version_major": 2,
       "version_minor": 0
      },
      "text/plain": [
       "FloatText(value=0.0)"
      ]
     },
     "metadata": {},
     "output_type": "display_data"
    },
    {
     "data": {
      "text/latex": [
       "Enter the $p$-value:"
      ],
      "text/plain": [
       "<IPython.core.display.Latex object>"
      ]
     },
     "metadata": {},
     "output_type": "display_data"
    },
    {
     "data": {
      "application/vnd.jupyter.widget-view+json": {
       "model_id": "f9e1ef9aa5254cff92989ff50960ed85",
       "version_major": 2,
       "version_minor": 0
      },
      "text/plain": [
       "FloatText(value=0.0)"
      ]
     },
     "metadata": {},
     "output_type": "display_data"
    }
   ],
   "source": [
    "z = widgets.FloatText()\n",
    "p = widgets.FloatText()\n",
    "\n",
    "output('Enter the $z$-value:')\n",
    "display(z)\n",
    "\n",
    "output('Enter the $p$-value:')\n",
    "display(p)"
   ]
  },
  {
   "cell_type": "code",
   "execution_count": 5,
   "metadata": {},
   "outputs": [
    {
     "data": {
      "text/latex": [
       "The $p$-value is: $0.5$ "
      ],
      "text/plain": [
       "<IPython.core.display.Latex object>"
      ]
     },
     "metadata": {},
     "output_type": "display_data"
    },
    {
     "data": {
      "text/latex": [
       "The $z$-value is: $-inf$ "
      ],
      "text/plain": [
       "<IPython.core.display.Latex object>"
      ]
     },
     "metadata": {},
     "output_type": "display_data"
    }
   ],
   "source": [
    "final_p = norm.cdf(z.value)\n",
    "output('The $p$-value is:' + equ(final_p))\n",
    "\n",
    "final_z = norm.ppf(p.value)\n",
    "output('The $z$-value is:' + equ(final_z))"
   ]
  },
  {
   "cell_type": "markdown",
   "metadata": {},
   "source": [
    "# Calculate Confidence Interval (Upper and Lower Bound Problems)"
   ]
  },
  {
   "cell_type": "code",
   "execution_count": 6,
   "metadata": {},
   "outputs": [
    {
     "data": {
      "text/latex": [
       "Set the lower bound:"
      ],
      "text/plain": [
       "<IPython.core.display.Latex object>"
      ]
     },
     "metadata": {},
     "output_type": "display_data"
    },
    {
     "data": {
      "application/vnd.jupyter.widget-view+json": {
       "model_id": "bd2834ea3f5b48a894ff6dea95631fa9",
       "version_major": 2,
       "version_minor": 0
      },
      "text/plain": [
       "FloatText(value=0.0)"
      ]
     },
     "metadata": {},
     "output_type": "display_data"
    },
    {
     "data": {
      "text/latex": [
       "Set the upper bound:"
      ],
      "text/plain": [
       "<IPython.core.display.Latex object>"
      ]
     },
     "metadata": {},
     "output_type": "display_data"
    },
    {
     "data": {
      "application/vnd.jupyter.widget-view+json": {
       "model_id": "df3e4d5cd24842b4ae13af2bcef0a37b",
       "version_major": 2,
       "version_minor": 0
      },
      "text/plain": [
       "FloatText(value=0.0)"
      ]
     },
     "metadata": {},
     "output_type": "display_data"
    },
    {
     "data": {
      "text/latex": [
       "Set $\\overline{x}$ or the average:"
      ],
      "text/plain": [
       "<IPython.core.display.Latex object>"
      ]
     },
     "metadata": {},
     "output_type": "display_data"
    },
    {
     "data": {
      "application/vnd.jupyter.widget-view+json": {
       "model_id": "003331dcced84fc39adb7448a39293a1",
       "version_major": 2,
       "version_minor": 0
      },
      "text/plain": [
       "FloatText(value=0.0)"
      ]
     },
     "metadata": {},
     "output_type": "display_data"
    },
    {
     "data": {
      "text/latex": [
       "Set $\\sigma$ or the standard deviation:"
      ],
      "text/plain": [
       "<IPython.core.display.Latex object>"
      ]
     },
     "metadata": {},
     "output_type": "display_data"
    },
    {
     "data": {
      "application/vnd.jupyter.widget-view+json": {
       "model_id": "e0d7da5786574133a41bc2e1da820460",
       "version_major": 2,
       "version_minor": 0
      },
      "text/plain": [
       "FloatText(value=1.0)"
      ]
     },
     "metadata": {},
     "output_type": "display_data"
    },
    {
     "data": {
      "text/latex": [
       "Set $N$ or the number of samples:"
      ],
      "text/plain": [
       "<IPython.core.display.Latex object>"
      ]
     },
     "metadata": {},
     "output_type": "display_data"
    },
    {
     "data": {
      "application/vnd.jupyter.widget-view+json": {
       "model_id": "9104f73292114ca9ae5d1b78661cf399",
       "version_major": 2,
       "version_minor": 0
      },
      "text/plain": [
       "FloatText(value=1.0)"
      ]
     },
     "metadata": {},
     "output_type": "display_data"
    },
    {
     "data": {
      "text/latex": [
       "Set $p$-value:"
      ],
      "text/plain": [
       "<IPython.core.display.Latex object>"
      ]
     },
     "metadata": {},
     "output_type": "display_data"
    },
    {
     "data": {
      "application/vnd.jupyter.widget-view+json": {
       "model_id": "3733daa1b54642daaff32d91be19d9e8",
       "version_major": 2,
       "version_minor": 0
      },
      "text/plain": [
       "FloatText(value=0.0)"
      ]
     },
     "metadata": {},
     "output_type": "display_data"
    }
   ],
   "source": [
    "x_lower = widgets.FloatText()\n",
    "x_upper = widgets.FloatText()\n",
    "mu = widgets.FloatText()\n",
    "sigma = widgets.FloatText(value=1)\n",
    "num = widgets.FloatText(value=1)\n",
    "p = widgets.FloatText()\n",
    "\n",
    "output('Set the lower bound:')\n",
    "display(x_lower)\n",
    "\n",
    "output('Set the upper bound:')\n",
    "display(x_upper)\n",
    "\n",
    "output('Set $\\overline{x}$ or the average:')\n",
    "display(mu)\n",
    "\n",
    "output('Set $\\sigma$ or the standard deviation:')\n",
    "display(sigma)\n",
    "\n",
    "output('Set $N$ or the number of samples:')\n",
    "display(num)\n",
    "\n",
    "output('Set $p$-value:')\n",
    "display(p)"
   ]
  },
  {
   "cell_type": "markdown",
   "metadata": {},
   "source": [
    "## Find the Upper and Lower Bound"
   ]
  },
  {
   "cell_type": "code",
   "execution_count": 7,
   "metadata": {},
   "outputs": [
    {
     "data": {
      "text/latex": [
       "The upper estimate of $\\mu$ is $0.0$ "
      ],
      "text/plain": [
       "<IPython.core.display.Latex object>"
      ]
     },
     "metadata": {},
     "output_type": "display_data"
    },
    {
     "data": {
      "text/latex": [
       "The lower estimate of $\\mu$ is $0.0$ "
      ],
      "text/plain": [
       "<IPython.core.display.Latex object>"
      ]
     },
     "metadata": {},
     "output_type": "display_data"
    }
   ],
   "source": [
    "alpha = 1 - p.value\n",
    "half_alpha = alpha / 2\n",
    "\n",
    "z_alpha = abs(norm.ppf(half_alpha))\n",
    "\n",
    "upper = mu.value + z_alpha * (sigma.value / m.sqrt(num.value))\n",
    "lower = mu.value - z_alpha * (sigma.value / m.sqrt(num.value))\n",
    "\n",
    "output('The upper estimate of $\\mu$ is' + equ(upper))\n",
    "output('The lower estimate of $\\mu$ is' + equ(lower))"
   ]
  },
  {
   "cell_type": "markdown",
   "metadata": {},
   "source": [
    "## Find the Standard Deviation ($\\sigma$)"
   ]
  },
  {
   "cell_type": "code",
   "execution_count": 8,
   "metadata": {},
   "outputs": [
    {
     "name": "stderr",
     "output_type": "stream",
     "text": [
      "C:\\Users\\amari\\scoop\\apps\\python\\current\\lib\\site-packages\\ipykernel_launcher.py:6: RuntimeWarning: invalid value encountered in double_scalars\n",
      "  \n"
     ]
    },
    {
     "data": {
      "text/latex": [
       "The value of sigma is $nan$ "
      ],
      "text/plain": [
       "<IPython.core.display.Latex object>"
      ]
     },
     "metadata": {},
     "output_type": "display_data"
    }
   ],
   "source": [
    "alpha = 1 - p.value\n",
    "half_alpha = alpha / 2\n",
    "\n",
    "z_alpha = norm.ppf(half_alpha)\n",
    "\n",
    "sigma_x = (x_lower.value - mu.value) * m.sqrt(num.value) / z_alpha\n",
    "\n",
    "output('The value of sigma is' + equ(sigma_x))"
   ]
  },
  {
   "cell_type": "markdown",
   "metadata": {},
   "source": [
    "## Find Sample Number (N)"
   ]
  },
  {
   "cell_type": "code",
   "execution_count": 9,
   "metadata": {},
   "outputs": [
    {
     "name": "stderr",
     "output_type": "stream",
     "text": [
      "C:\\Users\\amari\\scoop\\apps\\python\\current\\lib\\site-packages\\ipykernel_launcher.py:6: RuntimeWarning: invalid value encountered in double_scalars\n",
      "  \n"
     ]
    },
    {
     "data": {
      "text/latex": [
       "The sample number is $nan$ "
      ],
      "text/plain": [
       "<IPython.core.display.Latex object>"
      ]
     },
     "metadata": {},
     "output_type": "display_data"
    }
   ],
   "source": [
    "alpha = 1 - p.value\n",
    "half_alpha = alpha / 2\n",
    "\n",
    "z_alpha = norm.ppf(half_alpha)\n",
    "\n",
    "num_x = ((sigma.value * z_alpha)/(x_upper.value - mu.value)) ** 2\n",
    "\n",
    "output('The sample number is' + equ(num_x))"
   ]
  },
  {
   "cell_type": "code",
   "execution_count": null,
   "metadata": {},
   "outputs": [],
   "source": []
  }
 ],
 "metadata": {
  "kernelspec": {
   "display_name": "Python 3",
   "language": "python",
   "name": "python3"
  },
  "language_info": {
   "codemirror_mode": {
    "name": "ipython",
    "version": 3
   },
   "file_extension": ".py",
   "mimetype": "text/x-python",
   "name": "python",
   "nbconvert_exporter": "python",
   "pygments_lexer": "ipython3",
   "version": "3.7.4"
  }
 },
 "nbformat": 4,
 "nbformat_minor": 2
}
