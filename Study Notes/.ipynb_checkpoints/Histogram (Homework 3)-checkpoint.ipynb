{
 "cells": [
  {
   "cell_type": "markdown",
   "metadata": {},
   "source": [
    "# Creating a Histogram in Python"
   ]
  },
  {
   "cell_type": "code",
   "execution_count": 14,
   "metadata": {},
   "outputs": [],
   "source": [
    "import csv\n",
    "import matplotlib.pyplot as plt\n",
    "import numpy as np\n",
    "from matplotlib.patches import Polygon"
   ]
  },
  {
   "cell_type": "markdown",
   "metadata": {},
   "source": [
    "## Sample Histogram\n",
    "\n",
    "Basic Histogram showing the frequency of the diameter of peanuts."
   ]
  },
  {
   "cell_type": "code",
   "execution_count": 15,
   "metadata": {},
   "outputs": [
    {
     "data": {
      "image/png": "[encoded data removed]",
      "text/plain": [
       "<Figure size 432x288 with 1 Axes>"
      ]
     },
     "metadata": {
      "needs_background": "light"
     },
     "output_type": "display_data"
    }
   ],
   "source": [
    "with open('peanut.csv', 'r') as csv_file:\n",
    "    \n",
    "    csv_reader = csv.reader(csv_file, delimiter = ',')\n",
    "    line_count = 0\n",
    "    sampleNo = []\n",
    "    major = []\n",
    "    minor = []\n",
    "    for row in csv_reader:\n",
    "        if line_count == 0:\n",
    "            line_count += 1\n",
    "        else:\n",
    "            sampleNo.append(row[0])\n",
    "            major.append(float(row[1]))\n",
    "            minor.append(float(row[2]))\n",
    "            \n",
    "n, bins, patches = plt.hist(x=major, bins=[10,12,14,16,18,20,22,24,26], edgecolor='black', color='maroon')\n",
    "plt.xlabel('Major Diameter (mm)')\n",
    "plt.ylabel('Frequency')\n",
    "plt.title('Peanut Sample')\n",
    "plt.show()"
   ]
  },
  {
   "cell_type": "markdown",
   "metadata": {},
   "source": [
    "## Plotting a Normal Distribution Curve and Area under Curve\n",
    "\n",
    "- Using Probability Density Function\n",
    "\n",
    "I can use this plot for showing the graph for the next assignment"
   ]
  },
  {
   "cell_type": "code",
   "execution_count": 20,
   "metadata": {
    "scrolled": true
   },
   "outputs": [
    {
     "data": {
      "image/png": "[encoded data removed]",
      "text/plain": [
       "<Figure size 432x288 with 1 Axes>"
      ]
     },
     "metadata": {
      "needs_background": "light"
     },
     "output_type": "display_data"
    },
    {
     "data": {
      "text/plain": [
       "<Figure size 720x720 with 0 Axes>"
      ]
     },
     "metadata": {},
     "output_type": "display_data"
    }
   ],
   "source": [
    "def funct(x):\n",
    "    y = (1 / (statdev * np.sqrt(2 * np.pi))) * np.exp(-((x - mean) ** 2 / (2 * variance)))\n",
    "    return y\n",
    "\n",
    "\n",
    "mean = 800\n",
    "statdev = 40\n",
    "variance = statdev ** 2\n",
    "\n",
    "a, b = 778, 834\n",
    "\n",
    "x = np.linspace(a - statdev * 2.6, b + statdev * 2.6, 10000)\n",
    "y = funct(x)\n",
    "    \n",
    "fig, ax = plt.subplots()\n",
    "ax.plot(x, y, 'k')\n",
    "ax.set_ylim(bottom=0)\n",
    "\n",
    "\n",
    "# Shaded Region (More Effective Method)\n",
    "xfill = np.linspace(a - statdev * 2.6, b + statdev * 2.6, 10000)\n",
    "ax.fill_between(xfill, y, 0, where=(x > a) & (x <= b), color='g')\n",
    "\n",
    "ax.set_xticks((mean, a, b))\n",
    "\n",
    "ax.set_title('Bulb Lifetime Normal Distribution Plot')\n",
    "ax.set_xlabel('Burn Time (hours)')\n",
    "\n",
    "plt.savefig('filename.pdf')\n",
    "\n",
    "plt.show()"
   ]
  },
  {
   "cell_type": "code",
   "execution_count": 9,
   "metadata": {
    "collapsed": true
   },
   "outputs": [
    {
     "name": "stdout",
     "output_type": "stream",
     "text": [
      "% This file was created by tikzplotlib v0.9.1.\n",
      "\\begin{tikzpicture}\n",
      "\n",
      "\\end{tikzpicture}\n",
      "\n"
     ]
    },
    {
     "data": {
      "text/plain": [
       "<Figure size 432x288 with 0 Axes>"
      ]
     },
     "metadata": {},
     "output_type": "display_data"
    }
   ],
   "source": [
    "print(tplt.get_tikz_code())"
   ]
  },
  {
   "cell_type": "code",
   "execution_count": 13,
   "metadata": {},
   "outputs": [
    {
     "ename": "SyntaxError",
     "evalue": "invalid syntax (<ipython-input-13-fae56fde4ada>, line 1)",
     "output_type": "error",
     "traceback": [
      "\u001b[1;36m  File \u001b[1;32m\"<ipython-input-13-fae56fde4ada>\"\u001b[1;36m, line \u001b[1;32m1\u001b[0m\n\u001b[1;33m    pdflatex -shell-escape homework3.tex\u001b[0m\n\u001b[1;37m                                   ^\u001b[0m\n\u001b[1;31mSyntaxError\u001b[0m\u001b[1;31m:\u001b[0m invalid syntax\n"
     ]
    }
   ],
   "source": []
  },
  {
   "cell_type": "code",
   "execution_count": null,
   "metadata": {},
   "outputs": [],
   "source": []
  }
 ],
 "metadata": {
  "kernelspec": {
   "display_name": "Python 3",
   "language": "python",
   "name": "python3"
  },
  "language_info": {
   "codemirror_mode": {
    "name": "ipython",
    "version": 3
   },
   "file_extension": ".py",
   "mimetype": "text/x-python",
   "name": "python",
   "nbconvert_exporter": "python",
   "pygments_lexer": "ipython3",
   "version": "3.7.4"
  }
 },
 "nbformat": 4,
 "nbformat_minor": 2
}
